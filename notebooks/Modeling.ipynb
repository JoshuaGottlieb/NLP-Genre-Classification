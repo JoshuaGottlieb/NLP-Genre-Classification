{
 "cells": [
  {
   "cell_type": "code",
   "execution_count": 1,
   "id": "0c9cbefb",
   "metadata": {},
   "outputs": [],
   "source": [
    "import numpy as np\n",
    "import pandas as pd\n",
    "import matplotlib.pyplot as plt\n",
    "import seaborn as sns\n",
    "from sklearn.model_selection import train_test_split\n",
    "from sklearn.preprocessing import LabelEncoder\n",
    "from sklearn.feature_extraction.text import CountVectorizer, TfidfVectorizer\n",
    "from sklearn.naive_bayes import MultinomialNB\n",
    "from sklearn.ensemble import RandomForestClassifier, AdaBoostClassifier\n",
    "from xgboost import XGBClassifier\n",
    "from sklearn.pipeline import Pipeline\n",
    "from sklearn.model_selection import GridSearchCV\n",
    "from sklearn.metrics import make_scorer, accuracy_score\n",
    "from sklearn.metrics import classification_report, confusion_matrix, ConfusionMatrixDisplay\n",
    "from sklearn.manifold import TSNE\n",
    "from joblib import parallel_backend\n",
    "from project_functions.modeling import run_model\n",
    "from project_functions.utils import picklify, unpickle\n",
    "import pickle"
   ]
  },
  {
   "cell_type": "code",
   "execution_count": 2,
   "id": "bf3e552d",
   "metadata": {},
   "outputs": [],
   "source": [
    "# df = pd.read_parquet('../data/cleaned/tokenized_data_large_genres.parquet')"
   ]
  },
  {
   "cell_type": "code",
   "execution_count": 3,
   "id": "a48d06fc",
   "metadata": {},
   "outputs": [],
   "source": [
    "# X_train_count_unigrams = unpickle('../data/cleaned/train/X_train_count_unigrams.pickle')\n",
    "# X_test_count_unigrams = unpickle('../data/cleaned/test/X_test_count_unigrams.pickle')\n",
    "# X_train_count_bigrams = unpickle('../data/cleaned/train/X_train_count_bigrams.pickle')\n",
    "# X_test_count_bigrams = unpickle('../data/cleaned/test/X_test_count_bigrams.pickle')\n",
    "X_train_gensim_2gram_sparse = unpickle('../data/cleaned/train/X_train_gensim_2gram_sparse.pickle').T\n",
    "X_test_gensim_2gram_sparse = unpickle('../data/cleaned/test/X_test_gensim_2gram_sparse.pickle').T\n",
    "X_train_gensim_3gram_sparse = unpickle('../data/cleaned/train/X_train_gensim_3gram_sparse.pickle').T\n",
    "X_test_gensim_3gram_sparse = unpickle('../data/cleaned/test/X_test_gensim_3gram_sparse.pickle').T\n",
    "X_train_gensim_4gram_sparse = unpickle('../data/cleaned/train/X_train_gensim_4gram_sparse.pickle').T\n",
    "X_test_gensim_4gram_sparse = unpickle('../data/cleaned/test/X_test_gensim_4gram_sparse.pickle').T\n",
    "# X_train_glove = unpickle('../data/cleaned/train/X_train_glove.pickle')\n",
    "# X_test_glove = unpickle('../data/cleaned/test/X_test_glove.pickle')\n",
    "# X_train_word2vec = unpickle('../data/cleaned/train/X_train_word2vec.pickle')\n",
    "# X_test_word2vec = unpickle('../data/cleaned/test/X_test_word2vec.pickle')\n",
    "y_train = unpickle('../data/cleaned/train/y_train.pickle')\n",
    "y_test = unpickle('../data/cleaned/test/y_test.pickle')"
   ]
  },
  {
   "cell_type": "code",
   "execution_count": 4,
   "id": "dce71f75",
   "metadata": {},
   "outputs": [],
   "source": [
    "# mnb_count_unigrams = run_model(X_train_count_unigrams, X_test_count_unigrams, y_train, y_test,\n",
    "#                              MultinomialNB(), plot_confusion = True, display_report = True,\n",
    "#                              pickle_ = True, pickle_dest = '../data/models/mnb_count_unigrams.pickle')"
   ]
  },
  {
   "cell_type": "code",
   "execution_count": 5,
   "id": "c3f6ca0e",
   "metadata": {},
   "outputs": [],
   "source": [
    "# mnb_count_bigrams = run_model(X_train_count_bigrams, X_test_count_bigrams, y_train, y_test,\n",
    "#                              MultinomialNB(), plot_confusion = True, display_report = True,\n",
    "#                              pickle_ = True, pickle_dest = '../data/models/mnb_count_bigrams.pickle')"
   ]
  },
  {
   "cell_type": "code",
   "execution_count": 6,
   "id": "f1e9d2c1",
   "metadata": {},
   "outputs": [],
   "source": [
    "# mnb_gensim_2gram = run_model(X_train_gensim_2gram_sparse, X_test_gensim_2gram_sparse, y_train, y_test,\n",
    "#                              MultinomialNB(), plot_confusion = True, display_report = True,\n",
    "#                              pickle_ = True, pickle_dest = '../data/models/mnb_gensim_2gram.pickle')"
   ]
  },
  {
   "cell_type": "code",
   "execution_count": 7,
   "id": "cf4d70f9",
   "metadata": {},
   "outputs": [],
   "source": [
    "# mnb_gensim_3gram = run_model(X_train_gensim_3gram_sparse, X_test_gensim_3gram_sparse, y_train, y_test,\n",
    "#                              MultinomialNB(), plot_confusion = True, display_report = True,\n",
    "#                              pickle_ = True, pickle_dest = '../data/models/mnb_gensim_3gram.pickle')"
   ]
  },
  {
   "cell_type": "code",
   "execution_count": 8,
   "id": "eed64e75",
   "metadata": {},
   "outputs": [],
   "source": [
    "# mnb_gensim_4gram = run_model(X_train_gensim_4gram_sparse, X_test_gensim_4gram_sparse, y_train, y_test,\n",
    "#                              MultinomialNB(), plot_confusion = True, display_report = True,\n",
    "#                              pickle_ = True, pickle_dest = '../data/models/mnb_gensim_4gram.pickle')"
   ]
  },
  {
   "cell_type": "code",
   "execution_count": null,
   "id": "195f86fc",
   "metadata": {},
   "outputs": [],
   "source": []
  },
  {
   "cell_type": "code",
   "execution_count": 9,
   "id": "9f4dd291",
   "metadata": {},
   "outputs": [],
   "source": [
    "# baseline_xg_gensim_2gram = run_model(X_train_gensim_2gram_sparse, X_test_gensim_2gram_sparse, y_train, y_test,\n",
    "#                              XGBClassifier(), plot_confusion = True, display_report = True,\n",
    "#                              pickle_ = True, pickle_dest = '../data/models/baseline_xg_gensim_2gram.pickle')"
   ]
  },
  {
   "cell_type": "code",
   "execution_count": 10,
   "id": "a633aab0",
   "metadata": {},
   "outputs": [],
   "source": [
    "# baseline_xg_gensim_3gram = run_model(X_train_gensim_3gram_sparse, X_test_gensim_3gram_sparse, y_train, y_test,\n",
    "#                              XGBClassifier(), plot_confusion = True, display_report = True,\n",
    "#                              pickle_ = True, pickle_dest = '../data/models/baseline_xg_gensim_3gram.pickle')"
   ]
  },
  {
   "cell_type": "code",
   "execution_count": 11,
   "id": "22e58cbd",
   "metadata": {},
   "outputs": [],
   "source": [
    "# baseline_xg_gensim_4gram = run_model(X_train_gensim_4gram_sparse, X_test_gensim_4gram_sparse, y_train, y_test,\n",
    "#                              XGBClassifier(), plot_confusion = True, display_report = True,\n",
    "#                              pickle_ = True, pickle_dest = '../data/models/baseline_xg_gensim_4gram.pickle')"
   ]
  },
  {
   "cell_type": "code",
   "execution_count": 12,
   "id": "486f06c0",
   "metadata": {},
   "outputs": [],
   "source": [
    "# baseline_xg_glove = run_model(X_train_glove, X_test_glove, y_train, y_test,\n",
    "#                              XGBClassifier(), plot_confusion = True, display_report = True,\n",
    "#                              pickle_ = True, pickle_dest = '../data/models/baseline_xg_glove.pickle')"
   ]
  },
  {
   "cell_type": "code",
   "execution_count": 13,
   "id": "e3445e7d",
   "metadata": {},
   "outputs": [],
   "source": [
    "# baseline_xg_word2vec = run_model(X_train_word2vec, X_test_word2vec, y_train, y_test,\n",
    "#                              XGBClassifier(), plot_confusion = True, display_report = True,\n",
    "#                              pickle_ = True, pickle_dest = '../data/models/baseline_xg_word2vec.pickle')"
   ]
  },
  {
   "cell_type": "code",
   "execution_count": null,
   "id": "4d47a171",
   "metadata": {},
   "outputs": [],
   "source": []
  },
  {
   "cell_type": "code",
   "execution_count": 14,
   "id": "10e34575",
   "metadata": {},
   "outputs": [
    {
     "name": "stdout",
     "output_type": "stream",
     "text": [
      "Score: 0.5229325513196481\n",
      "              precision    recall  f1-score   support\n",
      "\n",
      "           0       0.33      0.42      0.37       911\n",
      "           1       0.57      0.50      0.53       639\n",
      "           2       0.75      0.73      0.74       840\n",
      "           3       0.52      0.55      0.53      1014\n",
      "           4       0.48      0.45      0.46       601\n",
      "           5       0.57      0.64      0.60       969\n",
      "           6       0.28      0.24      0.26       896\n",
      "           7       0.73      0.58      0.65       690\n",
      "           8       0.68      0.73      0.70       917\n",
      "           9       0.42      0.40      0.41      1048\n",
      "\n",
      "    accuracy                           0.52      8525\n",
      "   macro avg       0.53      0.52      0.53      8525\n",
      "weighted avg       0.53      0.52      0.52      8525\n",
      "\n"
     ]
    }
   ],
   "source": [
    "params = {\n",
    "    'n_estimators': 1000,\n",
    "    'max_depth': 3,\n",
    "    'min_child_weight': 1,\n",
    "    'subsample':1,\n",
    "    'colsample_bytree':1,\n",
    "    'alpha': 1,\n",
    "    'gamma': 0.1\n",
    "}\n",
    "\n",
    "pickle_dest = '../data/models/best_xg_gensim_2gram.pickle'\n",
    "\n",
    "best_xg_gensim_2gram = run_model(X_train_gensim_2gram_sparse, X_test_gensim_2gram_sparse, y_train, y_test,\n",
    "                                        XGBClassifier(), model_params = params, display_report = True,\n",
    "                                        pickle_ = True, pickle_dest = pickle_dest)"
   ]
  },
  {
   "cell_type": "code",
   "execution_count": 15,
   "id": "091342f2",
   "metadata": {},
   "outputs": [
    {
     "name": "stdout",
     "output_type": "stream",
     "text": [
      "Score: 0.524574780058651\n",
      "              precision    recall  f1-score   support\n",
      "\n",
      "           0       0.33      0.41      0.37       911\n",
      "           1       0.57      0.51      0.54       639\n",
      "           2       0.75      0.73      0.74       840\n",
      "           3       0.52      0.54      0.53      1014\n",
      "           4       0.47      0.45      0.46       601\n",
      "           5       0.59      0.64      0.61       969\n",
      "           6       0.28      0.24      0.26       896\n",
      "           7       0.76      0.58      0.65       690\n",
      "           8       0.68      0.73      0.70       917\n",
      "           9       0.42      0.42      0.42      1048\n",
      "\n",
      "    accuracy                           0.52      8525\n",
      "   macro avg       0.54      0.52      0.53      8525\n",
      "weighted avg       0.53      0.52      0.52      8525\n",
      "\n"
     ]
    }
   ],
   "source": [
    "params = {\n",
    "    'n_estimators': 1000,\n",
    "    'max_depth': 3,\n",
    "    'min_child_weight': 1,\n",
    "    'subsample':1,\n",
    "    'colsample_bytree':1,\n",
    "    'alpha': 1,\n",
    "    'gamma': 0.1\n",
    "}\n",
    "\n",
    "pickle_dest = '../data/models/best_xg_gensim_3gram.pickle'\n",
    "\n",
    "best_xg_gensim_3gram = run_model(X_train_gensim_3gram_sparse, X_test_gensim_3gram_sparse, y_train, y_test,\n",
    "                                        XGBClassifier(), model_params = params, display_report = True,\n",
    "                                        pickle_ = True, pickle_dest = pickle_dest)"
   ]
  },
  {
   "cell_type": "code",
   "execution_count": 16,
   "id": "2fd9900b",
   "metadata": {},
   "outputs": [
    {
     "name": "stdout",
     "output_type": "stream",
     "text": [
      "Score: 0.5260997067448681\n",
      "              precision    recall  f1-score   support\n",
      "\n",
      "           0       0.33      0.41      0.37       911\n",
      "           1       0.57      0.50      0.53       639\n",
      "           2       0.76      0.73      0.74       840\n",
      "           3       0.53      0.55      0.54      1014\n",
      "           4       0.48      0.44      0.46       601\n",
      "           5       0.59      0.63      0.61       969\n",
      "           6       0.28      0.25      0.27       896\n",
      "           7       0.74      0.59      0.65       690\n",
      "           8       0.68      0.74      0.71       917\n",
      "           9       0.43      0.42      0.43      1048\n",
      "\n",
      "    accuracy                           0.53      8525\n",
      "   macro avg       0.54      0.53      0.53      8525\n",
      "weighted avg       0.53      0.53      0.53      8525\n",
      "\n"
     ]
    }
   ],
   "source": [
    "params = {\n",
    "    'n_estimators': 1000,\n",
    "    'max_depth': 3,\n",
    "    'min_child_weight': 1,\n",
    "    'subsample':1,\n",
    "    'colsample_bytree':1,\n",
    "    'alpha': 1,\n",
    "    'gamma': 0.1\n",
    "}\n",
    "\n",
    "pickle_dest = '../data/models/best_xg_gensim_4gram.pickle'\n",
    "\n",
    "best_xg_gensim_4gram = run_model(X_train_gensim_4gram_sparse, X_test_gensim_4gram_sparse, y_train, y_test,\n",
    "                                        XGBClassifier(), model_params = params, display_report = True,\n",
    "                                        pickle_ = True, pickle_dest = pickle_dest)"
   ]
  },
  {
   "cell_type": "code",
   "execution_count": 17,
   "id": "b2078985",
   "metadata": {},
   "outputs": [],
   "source": [
    "# params = {\n",
    "#     'n_estimators': 500,\n",
    "#     'max_depth': 3,\n",
    "#     'min_child_weight': 1,\n",
    "#     'subsample': 1,\n",
    "#     'colsample_bytree':1,\n",
    "#     'alpha': 1,\n",
    "#     'gamma': 0.1\n",
    "# }\n",
    "\n",
    "# pickle_dest = '../data/models/best_xg_glove.pickle'\n",
    "\n",
    "# best_xg_glove = run_model(X_train_glove, X_test_glove, y_train, y_test,\n",
    "#                                         XGBClassifier(), model_params = params, display_report = True,\n",
    "#                                         pickle_ = True, pickle_dest = pickle_dest)"
   ]
  },
  {
   "cell_type": "code",
   "execution_count": 18,
   "id": "53f217b8",
   "metadata": {},
   "outputs": [],
   "source": [
    "# params = {\n",
    "#     'n_estimators': 500,\n",
    "#     'max_depth': 3,\n",
    "#     'min_child_weight': 1,\n",
    "#     'subsample':1,\n",
    "#     'colsample_bytree':1,\n",
    "#     'alpha': 1,\n",
    "#     'gamma': 0.1\n",
    "# }\n",
    "\n",
    "# pickle_dest = '../data/models/best_xg_word2vec.pickle'\n",
    "\n",
    "# best_xg_word2vec = run_model(X_train_word2vec, X_test_word2vec, y_train, y_test,\n",
    "#                                         XGBClassifier(), model_params = params, display_report = True,\n",
    "#                                         pickle_ = True, pickle_dest = pickle_dest)"
   ]
  },
  {
   "cell_type": "code",
   "execution_count": null,
   "id": "1e198326",
   "metadata": {},
   "outputs": [],
   "source": []
  },
  {
   "cell_type": "code",
   "execution_count": 19,
   "id": "1c573f06",
   "metadata": {
    "scrolled": true
   },
   "outputs": [],
   "source": [
    "# # %%timeit\n",
    "# # Tuning max depth and min child weight\n",
    "# params = {\n",
    "#     'n_estimators': [1000],\n",
    "#     'max_depth': [3, 6, 9],\n",
    "#     'min_child_weight': [1, 3, 5],\n",
    "#     'subsample': [0.8],\n",
    "#     'colsample_bytree': [0.8],\n",
    "#     'alpha': [1],\n",
    "#     'gamma': [0]\n",
    "# }\n",
    "\n",
    "# pickle_dest = '../data/models/max_depth_min_child_xgboost_gensim_2gram.pickle'\n",
    "\n",
    "# xg_gridsearch_gensim = run_model(X_train_gensim_sparse, X_test_gensim_sparse, y_train, y_test,\n",
    "#                                         XGBClassifier(), grid_search = True, scoring = None,\n",
    "#                                         model_params = params, plot_confusion = True, display_report = True,\n",
    "#                                         pickle_ = True, pickle_dest = pickle_dest)"
   ]
  },
  {
   "cell_type": "code",
   "execution_count": 20,
   "id": "adb4200a",
   "metadata": {},
   "outputs": [],
   "source": [
    "# # %%timeit\n",
    "# # Tuning gamma\n",
    "# params = {\n",
    "#     'n_estimators': [1000],\n",
    "#     'max_depth': [3],\n",
    "#     'min_child_weight': [1],\n",
    "#     'subsample': [0.8],\n",
    "#     'colsample_bytree': [0.8],\n",
    "#     'alpha': [1],\n",
    "#     'gamma': [i / 10.0 for i in range(0, 6)]\n",
    "# }\n",
    "\n",
    "# pickle_dest = '../data/models/gamma_xgboost_gensim_2gram.pickle'\n",
    "\n",
    "# xg_gridsearch_gensim = run_model(X_train_gensim_sparse, X_test_gensim_sparse, y_train, y_test,\n",
    "#                                         XGBClassifier(), grid_search = True, scoring = None,\n",
    "#                                         model_params = params, display_report = True,\n",
    "#                                         pickle_ = True, pickle_dest = pickle_dest)"
   ]
  },
  {
   "cell_type": "code",
   "execution_count": 21,
   "id": "19325dfd",
   "metadata": {},
   "outputs": [],
   "source": [
    "# # %%timeit\n",
    "# # Tuning subsampling\n",
    "# params = {\n",
    "#     'n_estimators': [1000],\n",
    "#     'max_depth': [3],\n",
    "#     'min_child_weight': [1],\n",
    "#     'subsample':[i/10.0 for i in range(6,10)],\n",
    "#     'colsample_bytree':[i/10.0 for i in range(6,10)],\n",
    "#     'alpha': [1],\n",
    "#     'gamma': [0.1]\n",
    "# }\n",
    "\n",
    "# pickle_dest = '../data/models/subsample_colsample_xgboost_gensim_2gram.pickle'\n",
    "\n",
    "# xg_gridsearch_gensim = run_model(X_train_gensim_sparse, X_test_gensim_sparse, y_train, y_test,\n",
    "#                                         XGBClassifier(), grid_search = True, scoring = None,\n",
    "#                                         model_params = params, display_report = True,\n",
    "#                                         pickle_ = True, pickle_dest = pickle_dest)"
   ]
  },
  {
   "cell_type": "code",
   "execution_count": 22,
   "id": "e90f8015",
   "metadata": {},
   "outputs": [],
   "source": [
    "# # %%timeit\n",
    "# # Tuning subsampling further\n",
    "# params = {\n",
    "#     'n_estimators': [1000],\n",
    "#     'max_depth': [3],\n",
    "#     'min_child_weight': [1],\n",
    "#     'subsample':[0.9, 0.95, 1],\n",
    "#     'colsample_bytree':[0.9, 0.95, 1],\n",
    "#     'alpha': [1],\n",
    "#     'gamma': [0.1]\n",
    "# }\n",
    "\n",
    "# pickle_dest = '../data/models/subsample_colsample_higher_xgboost_gensim_2gram.pickle'\n",
    "\n",
    "# xg_gridsearch_gensim = run_model(X_train_gensim_sparse, X_test_gensim_sparse, y_train, y_test,\n",
    "#                                         XGBClassifier(), grid_search = True, scoring = None,\n",
    "#                                         model_params = params, display_report = True,\n",
    "#                                         pickle_ = True, pickle_dest = pickle_dest)"
   ]
  },
  {
   "cell_type": "code",
   "execution_count": 23,
   "id": "a2c8434d",
   "metadata": {},
   "outputs": [],
   "source": [
    "# # %%timeit\n",
    "# # Best Params\n",
    "# params = {\n",
    "#     'n_estimators': [1000],\n",
    "#     'max_depth': [3],\n",
    "#     'min_child_weight': [1],\n",
    "#     'subsample':[1],\n",
    "#     'colsample_bytree':[1],\n",
    "#     'alpha': [1],\n",
    "#     'gamma': [0.1]\n",
    "# }\n",
    "\n",
    "# pickle_dest = '../data/models/subsample_colsample_higher_xgboost_gensim_2gram.pickle'\n",
    "\n",
    "# xg_gridsearch_gensim = run_model(X_train_gensim_sparse, X_test_gensim_sparse, y_train, y_test,\n",
    "#                                         XGBClassifier(), grid_search = True, scoring = None,\n",
    "#                                         model_params = params, display_report = True,\n",
    "#                                         pickle_ = True, pickle_dest = pickle_dest)"
   ]
  }
 ],
 "metadata": {
  "kernelspec": {
   "display_name": "Python 3 (ipykernel)",
   "language": "python",
   "name": "python3"
  },
  "language_info": {
   "codemirror_mode": {
    "name": "ipython",
    "version": 3
   },
   "file_extension": ".py",
   "mimetype": "text/x-python",
   "name": "python",
   "nbconvert_exporter": "python",
   "pygments_lexer": "ipython3",
   "version": "3.8.10"
  }
 },
 "nbformat": 4,
 "nbformat_minor": 5
}
