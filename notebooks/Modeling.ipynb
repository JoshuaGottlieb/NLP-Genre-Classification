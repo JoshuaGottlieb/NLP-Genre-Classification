{
 "cells": [
  {
   "cell_type": "code",
   "execution_count": null,
   "id": "89b22455",
   "metadata": {},
   "outputs": [],
   "source": [
    "import numpy as np\n",
    "import pandas as pd\n",
    "import matplotlib.pyplot as plt\n",
    "import seaborn as sns\n",
    "from sklearn.model_selection import train_test_split\n",
    "from sklearn.feature_extraction.text import CountVectorizer, TfidfVectorizer\n",
    "from sklearn.naive_bayes import MultinomialNB\n",
    "from sklearn.ensemble import RandomForestClassifier, AdaBoostClassifier\n",
    "from xgboost import XGBClassifier\n",
    "from sklearn.pipeline import Pipeline\n",
    "from sklearn.model_selection import GridSearchCV\n",
    "from sklearn.metrics import make_scorer, accuracy_score\n",
    "from sklearn.metrics import classification_report, confusion_matrix, ConfusionMatrixDisplay\n",
    "from sklearn.manifold import TSNE\n",
    "from joblib import parallel_backend\n",
    "from project_functions.modeling import vectorize_data\n",
    "import pickle"
   ]
  },
  {
   "cell_type": "code",
   "execution_count": null,
   "id": "615c3916",
   "metadata": {},
   "outputs": [],
   "source": [
    "df = pd.read_parquet('../data/cleaned/tokenized_data_complete.parquet')"
   ]
  },
  {
   "cell_type": "code",
   "execution_count": null,
   "id": "a71d0cf9",
   "metadata": {},
   "outputs": [],
   "source": [
    "df.genre_name.value_counts()"
   ]
  },
  {
   "cell_type": "code",
   "execution_count": null,
   "id": "8cf27b85",
   "metadata": {},
   "outputs": [],
   "source": [
    "def run_model(X_train, X_test, y_train, y_test, model, model_params = None, grid_search = False,\n",
    "              random_state = 42, scoring = make_scorer(accuracy_score), cv = 3,\n",
    "              plot_confusion = False, display_report = False, pickle = False, pickle_dest = None):\n",
    "    \n",
    "    with parallel_backend('threading', n_jobs = -1):\n",
    "        if grid_search:\n",
    "            classifier = GridSearchCV(estimator = model, param_grid = model_params,\n",
    "                                 n_jobs = -1, scoring = scoring, cv = cv)\n",
    "            if 'random_state' in classifier.get_params():\n",
    "                classifier.set_params(**{'random_state': random_state})\n",
    "        else:\n",
    "            classifier = model\n",
    "            if model_params is not None:\n",
    "                classifier.set_params(**model_params)\n",
    "            if 'random_state' in classifier.get_params():\n",
    "                classifier.set_params(**{'random_state': random_state})\n",
    "        \n",
    "        classifier.fit(X_train, y_train)\n",
    "                \n",
    "        if any([plot_confusion, display_report]):\n",
    "            y_pred = classifier.predict(X_test)\n",
    "            y_score = classifier.score(X_test, y_test)\n",
    "            print('Score: {}'.format(y_score))\n",
    "        \n",
    "        if plot_confusion:\n",
    "            ConfusionMatrixDisplay(confusion_matrix(y_test, y_pred)).plot();\n",
    "            \n",
    "        if display_report:\n",
    "            print(classification_report(y_test, y_pred))\n",
    "            \n",
    "        if pickle:\n",
    "            if pickle_dest is None:\n",
    "                print('No pickle destination given, pickling skipped.')\n",
    "            else:\n",
    "                with open(pickle_dest, 'wb') as f:\n",
    "                    pickle.dump(classifier, f)\n",
    "        \n",
    "    return classifier\n",
    "    "
   ]
  },
  {
   "cell_type": "code",
   "execution_count": null,
   "id": "60f30568",
   "metadata": {},
   "outputs": [],
   "source": [
    "vector_args = {\n",
    "    'min_df': 0.05,\n",
    "    'max_df': 0.95\n",
    "}\n",
    "\n",
    "X_train_count_unigram, X_test_count_unigram, y_train, y_test, count_vectorizer_unigram\\\n",
    "                        = vectorize_data(df, CountVectorizer(),\n",
    "                                         vectorizer_args = vector_args,\n",
    "                                         additional_features = True,\n",
    "                                         min_samples = 2000, test_size = 0.2)\n",
    "                                                               "
   ]
  },
  {
   "cell_type": "code",
   "execution_count": null,
   "id": "449ec4b1",
   "metadata": {},
   "outputs": [],
   "source": [
    "vector_args = {\n",
    "    'min_df': 0.05,\n",
    "    'max_df': 0.95,\n",
    "    'ngram_range': (1, 2)\n",
    "}\n",
    "\n",
    "X_train_count_bigram, X_test_count_bigram, y_train, y_test, count_vectorizer_bigram\\\n",
    "                        = vectorize_data(df, CountVectorizer(),\n",
    "                                         vectorizer_args = vector_args,\n",
    "                                         additional_features = True,\n",
    "                                         min_samples = 2000, test_size = 0.2)"
   ]
  },
  {
   "cell_type": "code",
   "execution_count": null,
   "id": "5a344db7",
   "metadata": {},
   "outputs": [],
   "source": [
    "vector_args = {\n",
    "    'min_df': 0.05,\n",
    "    'max_df': 0.95\n",
    "}\n",
    "\n",
    "X_train_tfidf_unigram, X_test_tfidf_unigram, y_train, y_test, tfidf_vectorizer_unigram\\\n",
    "                        = vectorize_data(df, TfidfVectorizer(),\n",
    "                                         vectorizer_args = vector_args,\n",
    "                                         additional_features = True,\n",
    "                                         min_samples = 2000, test_size = 0.2)\n",
    "                                                               "
   ]
  },
  {
   "cell_type": "code",
   "execution_count": null,
   "id": "2c4df67a",
   "metadata": {},
   "outputs": [],
   "source": [
    "vector_args = {\n",
    "    'min_df': 0.05,\n",
    "    'max_df': 0.95,\n",
    "    'ngram_range': (1, 2)\n",
    "}\n",
    "X_train_tfidf_bigram, X_test_tfidf_bigram, y_train, y_test, tfidf_vectorizer_bigram\\\n",
    "                        = vectorize_data(df, TfidfVectorizer(),\n",
    "                                         vectorizer_args = vector_args,\n",
    "                                         additional_features = True,\n",
    "                                         min_samples = 2000, test_size = 0.2)"
   ]
  },
  {
   "cell_type": "code",
   "execution_count": null,
   "id": "82ba136f",
   "metadata": {},
   "outputs": [],
   "source": [
    "pickle_dest = '../data/cleaned/multinomial_naive_bayes_count_unigram.pickle'\n",
    "\n",
    "mnb_count_unigram = run_model(X_train_count_unigram, X_test_count_unigram, y_train, y_test,\n",
    "                              MultinomialNB(), plot_confusion = True, display_report = True,\n",
    "                              pickle = True, pickle_dest = pickle_dest)"
   ]
  },
  {
   "cell_type": "code",
   "execution_count": null,
   "id": "4da2b467",
   "metadata": {},
   "outputs": [],
   "source": [
    "pickle_dest = '../data/cleaned/multinomial_naive_bayes_count_bigram.pickle'\n",
    "\n",
    "mnb_count_bigram = run_model(X_train_count_bigram, X_test_count_bigram, y_train, y_test,\n",
    "                              MultinomialNB(), plot_confusion = True, display_report = True,\n",
    "                              pickle = True, pickle_dest = pickle_dest)"
   ]
  },
  {
   "cell_type": "code",
   "execution_count": null,
   "id": "1e65f985",
   "metadata": {},
   "outputs": [],
   "source": [
    "pickle_dest = '../data/cleaned/multinomial_naive_bayes_tfidf_unigram.pickle'\n",
    "\n",
    "mnb_tfidf_unigram = run_model(X_train_tfidf_unigram, X_test_tfidf_unigram, y_train, y_test,\n",
    "                              MultinomialNB(), plot_confusion = True, display_report = True,\n",
    "                              pickle = True, pickle_dest = pickle_dest)"
   ]
  },
  {
   "cell_type": "code",
   "execution_count": null,
   "id": "412ef82a",
   "metadata": {},
   "outputs": [],
   "source": [
    "pickle_dest = '../data/cleaned/multinomial_naive_bayes_tfidf_bigram.pickle'\n",
    "\n",
    "mnb_tfidf_bigram = run_model(X_train_tfidf_bigram, X_test_tfidf_bigram, y_train, y_test,\n",
    "                              MultinomialNB(), plot_confusion = True, display_report = True,\n",
    "                              pickle = True, pickle_dest = pickle_dest)"
   ]
  },
  {
   "cell_type": "code",
   "execution_count": null,
   "id": "1b267ef5",
   "metadata": {},
   "outputs": [],
   "source": [
    "pickle_dest = '../data/cleaned/baseline_xgboost_count_bigram.pickle'\n",
    "\n",
    "baseline_xg_count_bigram = run_model(X_train_count_bigram, X_test_count_bigram, y_train, y_test,\n",
    "                                     XGBClassifier(), plot_confusion = True, display_report = True,\n",
    "                                     pickle = True, pickle_dest = pickle_dest)"
   ]
  },
  {
   "cell_type": "code",
   "execution_count": null,
   "id": "354c3a21",
   "metadata": {},
   "outputs": [],
   "source": [
    "# Tuning max depth and min child weight\n",
    "params = {\n",
    "    'n_estimators': [1000],\n",
    "    'max_depth': [3, 6, 9],\n",
    "    'min_child_weight': [1, 3, 5]\n",
    "    'subsample': [0.8],\n",
    "    'colsample_bytree': [0.8],\n",
    "    'alpha': [1],\n",
    "    'gamma': [0],\n",
    "    'scale_pos_weight': [1]\n",
    "}\n",
    "\n",
    "pickle_dest = '../data/cleaned/max_depth_min_child_xgboost_count_bigram.pickle'\n",
    "\n",
    "xg_gridsearch_count_unigram = run_model(X_train_count_bigram, X_test_count_bigram, y_train, y_test,\n",
    "                                        XGBClassifier(), grid_search = True, scoring = None,\n",
    "                                        model_params = params, plot_confusion = True, display_report = True,\n",
    "                                        pickle = True, pickle_dest = pickle_dest)"
   ]
  }
 ],
 "metadata": {
  "kernelspec": {
   "display_name": "Python (learn-env)",
   "language": "python",
   "name": "learn-env"
  },
  "language_info": {
   "codemirror_mode": {
    "name": "ipython",
    "version": 3
   },
   "file_extension": ".py",
   "mimetype": "text/x-python",
   "name": "python",
   "nbconvert_exporter": "python",
   "pygments_lexer": "ipython3",
   "version": "3.8.5"
  }
 },
 "nbformat": 4,
 "nbformat_minor": 5
}
