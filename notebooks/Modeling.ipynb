{
 "cells": [
  {
   "cell_type": "markdown",
   "id": "2a07326d",
   "metadata": {},
   "source": [
    "## Importing Libraries"
   ]
  },
  {
   "cell_type": "code",
   "execution_count": null,
   "id": "67326b84",
   "metadata": {},
   "outputs": [],
   "source": [
    "import numpy as np\n",
    "import pandas as pd\n",
    "import matplotlib.pyplot as plt\n",
    "import seaborn as sns\n",
    "from sklearn.naive_bayes import MultinomialNB\n",
    "from xgboost import XGBClassifier\n",
    "from sklearn.model_selection import GridSearchCV\n",
    "from joblib import parallel_backend\n",
    "from project_functions.modeling import run_model\n",
    "from project_functions.utils import picklify, unpickle"
   ]
  },
  {
   "cell_type": "markdown",
   "id": "b34315a2",
   "metadata": {},
   "source": [
    "## Loading Data"
   ]
  },
  {
   "cell_type": "code",
   "execution_count": null,
   "id": "e433561b",
   "metadata": {},
   "outputs": [],
   "source": [
    "X_train_count_unigrams = unpickle('../data/cleaned/train/X_train_count_unigrams.pickle')\n",
    "X_test_count_unigrams = unpickle('../data/cleaned/test/X_test_count_unigrams.pickle')\n",
    "X_train_count_bigrams = unpickle('../data/cleaned/train/X_train_count_bigrams.pickle')\n",
    "X_test_count_bigrams = unpickle('../data/cleaned/test/X_test_count_bigrams.pickle')\n",
    "X_train_gensim_2gram_sparse = unpickle('../data/cleaned/train/X_train_gensim_2gram_sparse.pickle').T\n",
    "X_test_gensim_2gram_sparse = unpickle('../data/cleaned/test/X_test_gensim_2gram_sparse.pickle').T\n",
    "X_train_gensim_3gram_sparse = unpickle('../data/cleaned/train/X_train_gensim_3gram_sparse.pickle').T\n",
    "X_test_gensim_3gram_sparse = unpickle('../data/cleaned/test/X_test_gensim_3gram_sparse.pickle').T\n",
    "X_train_gensim_4gram_sparse = unpickle('../data/cleaned/train/X_train_gensim_4gram_sparse.pickle').T\n",
    "X_test_gensim_4gram_sparse = unpickle('../data/cleaned/test/X_test_gensim_4gram_sparse.pickle').T\n",
    "X_train_glove = unpickle('../data/cleaned/train/X_train_glove.pickle')\n",
    "X_test_glove = unpickle('../data/cleaned/test/X_test_glove.pickle')\n",
    "X_train_word2vec = unpickle('../data/cleaned/train/X_train_word2vec.pickle')\n",
    "X_test_word2vec = unpickle('../data/cleaned/test/X_test_word2vec.pickle')\n",
    "y_train = unpickle('../data/cleaned/train/y_train.pickle')\n",
    "y_test = unpickle('../data/cleaned/test/y_test.pickle')"
   ]
  },
  {
   "cell_type": "markdown",
   "id": "11ffac19",
   "metadata": {},
   "source": [
    "## Multinomial Naive Bayes Models"
   ]
  },
  {
   "cell_type": "code",
   "execution_count": null,
   "id": "d45e3d22",
   "metadata": {},
   "outputs": [],
   "source": [
    "mnb_count_unigrams = run_model(X_train_count_unigrams, X_test_count_unigrams, y_train, y_test,\n",
    "                               MultinomialNB(), plot_confusion = True, display_report = True,\n",
    "#                                pickle_ = True, pickle_dest = '../data/models/mnb_count_unigrams.pickle'\n",
    "                              )"
   ]
  },
  {
   "cell_type": "code",
   "execution_count": null,
   "id": "7843b40d",
   "metadata": {},
   "outputs": [],
   "source": [
    "mnb_count_bigrams = run_model(X_train_count_bigrams, X_test_count_bigrams, y_train, y_test,\n",
    "                              MultinomialNB(), plot_confusion = True, display_report = True,\n",
    "#                               pickle_ = True, pickle_dest = '../data/models/mnb_count_bigrams.pickle'\n",
    "                             )"
   ]
  },
  {
   "cell_type": "code",
   "execution_count": null,
   "id": "b0eeb927",
   "metadata": {},
   "outputs": [],
   "source": [
    "mnb_gensim_2gram = run_model(X_train_gensim_2gram_sparse, X_test_gensim_2gram_sparse, y_train, y_test,\n",
    "                             MultinomialNB(), plot_confusion = True, display_report = True,\n",
    "#                              pickle_ = True, pickle_dest = '../data/models/mnb_gensim_2gram.pickle'\n",
    "                            )"
   ]
  },
  {
   "cell_type": "code",
   "execution_count": null,
   "id": "2ce9339c",
   "metadata": {},
   "outputs": [],
   "source": [
    "mnb_gensim_3gram = run_model(X_train_gensim_3gram_sparse, X_test_gensim_3gram_sparse, y_train, y_test,\n",
    "                             MultinomialNB(), plot_confusion = True, display_report = True,\n",
    "#                              pickle_ = True, pickle_dest = '../data/models/mnb_gensim_3gram.pickle'\n",
    "                            )"
   ]
  },
  {
   "cell_type": "code",
   "execution_count": null,
   "id": "e8f48253",
   "metadata": {},
   "outputs": [],
   "source": [
    "mnb_gensim_4gram = run_model(X_train_gensim_4gram_sparse, X_test_gensim_4gram_sparse, y_train, y_test,\n",
    "                             MultinomialNB(), plot_confusion = True, display_report = True,\n",
    "#                              pickle_ = True, pickle_dest = '../data/models/mnb_gensim_4gram.pickle'\n",
    "                            )"
   ]
  },
  {
   "cell_type": "markdown",
   "id": "39eb4142",
   "metadata": {},
   "source": [
    "## Untuned XGBoosted Models"
   ]
  },
  {
   "cell_type": "code",
   "execution_count": null,
   "id": "f0403ac6",
   "metadata": {},
   "outputs": [],
   "source": [
    "baseline_xg_gensim_2gram = run_model(X_train_gensim_2gram_sparse, X_test_gensim_2gram_sparse, y_train, y_test,\n",
    "                                     XGBClassifier(), plot_confusion = True, display_report = True,\n",
    "#                                      pickle_ = True, pickle_dest = '../data/models/baseline_xg_gensim_2gram.pickle'\n",
    "                                    )"
   ]
  },
  {
   "cell_type": "code",
   "execution_count": null,
   "id": "a2174411",
   "metadata": {},
   "outputs": [],
   "source": [
    "baseline_xg_gensim_3gram = run_model(X_train_gensim_3gram_sparse, X_test_gensim_3gram_sparse, y_train, y_test,\n",
    "                                     XGBClassifier(), plot_confusion = True, display_report = True,\n",
    "#                                      pickle_ = True, pickle_dest = '../data/models/baseline_xg_gensim_3gram.pickle'\n",
    "                                    )"
   ]
  },
  {
   "cell_type": "code",
   "execution_count": null,
   "id": "c148c9cd",
   "metadata": {},
   "outputs": [],
   "source": [
    "baseline_xg_gensim_4gram = run_model(X_train_gensim_4gram_sparse, X_test_gensim_4gram_sparse, y_train, y_test,\n",
    "                                     XGBClassifier(), plot_confusion = True, display_report = True,\n",
    "#                                      pickle_ = True, pickle_dest = '../data/models/baseline_xg_gensim_4gram.pickle'\n",
    "                                    )"
   ]
  },
  {
   "cell_type": "code",
   "execution_count": null,
   "id": "9b435796",
   "metadata": {},
   "outputs": [],
   "source": [
    "baseline_xg_glove = run_model(X_train_glove, X_test_glove, y_train, y_test,\n",
    "                              XGBClassifier(), plot_confusion = True, display_report = True,\n",
    "#                               pickle_ = True, pickle_dest = '../data/models/baseline_xg_glove.pickle'\n",
    "                             )"
   ]
  },
  {
   "cell_type": "code",
   "execution_count": null,
   "id": "e4be40c2",
   "metadata": {},
   "outputs": [],
   "source": [
    "baseline_xg_word2vec = run_model(X_train_word2vec, X_test_word2vec, y_train, y_test,\n",
    "                                 XGBClassifier(), plot_confusion = True, display_report = True,\n",
    "#                                  pickle_ = True, pickle_dest = '../data/models/baseline_xg_word2vec.pickle'\n",
    "                                )"
   ]
  },
  {
   "cell_type": "markdown",
   "id": "c556d43a",
   "metadata": {},
   "source": [
    "## Gridsearch for Tuning XGBoosted Models"
   ]
  },
  {
   "cell_type": "code",
   "execution_count": null,
   "id": "6bfa4d76",
   "metadata": {
    "scrolled": true
   },
   "outputs": [],
   "source": [
    "# Only tuning the XGBoosted model for the gensim bigram encoding.\n",
    "# Tuning max depth and min child weight\n",
    "params = {\n",
    "    'n_estimators': [1000],\n",
    "    'max_depth': [3, 6, 9],\n",
    "    'min_child_weight': [1, 3, 5],\n",
    "    'subsample': [0.8],\n",
    "    'colsample_bytree': [0.8],\n",
    "    'alpha': [1],\n",
    "    'gamma': [0]\n",
    "}\n",
    "\n",
    "pickle_dest = '../data/models/max_depth_min_child_xgboost_gensim_2gram.pickle'\n",
    "\n",
    "xg_gridsearch_gensim = run_model(X_train_gensim_2gram_sparse, X_test_gensim_2gram_sparse, y_train, y_test,\n",
    "                                 XGBClassifier(), grid_search = True, scoring = None,\n",
    "                                 model_params = params, plot_confusion = True, display_report = True,\n",
    "#                                  pickle_ = True, pickle_dest = pickle_dest\n",
    "                                )"
   ]
  },
  {
   "cell_type": "code",
   "execution_count": null,
   "id": "c7b6c932",
   "metadata": {},
   "outputs": [],
   "source": [
    "# Tuning gamma\n",
    "params = {\n",
    "    'n_estimators': [1000],\n",
    "    'max_depth': [3],\n",
    "    'min_child_weight': [1],\n",
    "    'subsample': [0.8],\n",
    "    'colsample_bytree': [0.8],\n",
    "    'alpha': [1],\n",
    "    'gamma': [i / 10.0 for i in range(0, 6)]\n",
    "}\n",
    "\n",
    "pickle_dest = '../data/models/gamma_xgboost_gensim_2gram.pickle'\n",
    "\n",
    "xg_gridsearch_gensim = run_model(X_train_gensim_2gram_sparse, X_test_2gram_gensim_sparse, y_train, y_test,\n",
    "                                 XGBClassifier(), grid_search = True, scoring = None,\n",
    "                                 model_params = params, display_report = True,\n",
    "#                                  pickle_ = True, pickle_dest = pickle_dest\n",
    "                                )"
   ]
  },
  {
   "cell_type": "code",
   "execution_count": null,
   "id": "2cb5fd68",
   "metadata": {},
   "outputs": [],
   "source": [
    "# Tuning subsampling\n",
    "params = {\n",
    "    'n_estimators': [1000],\n",
    "    'max_depth': [3],\n",
    "    'min_child_weight': [1],\n",
    "    'subsample':[i/10.0 for i in range(6,10)],\n",
    "    'colsample_bytree':[i/10.0 for i in range(6,10)],\n",
    "    'alpha': [1],\n",
    "    'gamma': [0.1]\n",
    "}\n",
    "\n",
    "pickle_dest = '../data/models/subsample_colsample_xgboost_gensim_2gram.pickle'\n",
    "\n",
    "xg_gridsearch_gensim = run_model(X_train_gensim_2gram_sparse, X_test_gensim_2gram_sparse, y_train, y_test,\n",
    "                                 XGBClassifier(), grid_search = True, scoring = None,\n",
    "                                 model_params = params, display_report = True,\n",
    "#                                  pickle_ = True, pickle_dest = pickle_dest\n",
    "                                )"
   ]
  },
  {
   "cell_type": "code",
   "execution_count": null,
   "id": "524b8f04",
   "metadata": {},
   "outputs": [],
   "source": [
    "# Tuning subsampling further\n",
    "params = {\n",
    "    'n_estimators': [1000],\n",
    "    'max_depth': [3],\n",
    "    'min_child_weight': [1],\n",
    "    'subsample':[0.9, 0.95, 1],\n",
    "    'colsample_bytree':[0.9, 0.95, 1],\n",
    "    'alpha': [1],\n",
    "    'gamma': [0.1]\n",
    "}\n",
    "\n",
    "pickle_dest = '../data/models/subsample_colsample_higher_xgboost_gensim_2gram.pickle'\n",
    "\n",
    "xg_gridsearch_gensim = run_model(X_train_gensim_2gram_sparse, X_test_gensim_2gram_sparse, y_train, y_test,\n",
    "                                 XGBClassifier(), grid_search = True, scoring = None,\n",
    "                                 model_params = params, display_report = True,\n",
    "#                                  pickle_ = True, pickle_dest = pickle_dest\n",
    "                                )"
   ]
  },
  {
   "cell_type": "markdown",
   "id": "6d8dc0cc",
   "metadata": {},
   "source": [
    "## Tuned XGBoosted Models"
   ]
  },
  {
   "cell_type": "code",
   "execution_count": null,
   "id": "37de3bef",
   "metadata": {},
   "outputs": [],
   "source": [
    "params = {\n",
    "    'n_estimators': 1000,\n",
    "    'max_depth': 3,\n",
    "    'min_child_weight': 1,\n",
    "    'subsample':1,\n",
    "    'colsample_bytree':1,\n",
    "    'alpha': 1,\n",
    "    'gamma': 0.1\n",
    "}\n",
    "\n",
    "pickle_dest = '../data/models/best_xg_gensim_2gram.pickle'\n",
    "\n",
    "best_xg_gensim_2gram = run_model(X_train_gensim_2gram_sparse, X_test_gensim_2gram_sparse, y_train, y_test,\n",
    "                                 XGBClassifier(), model_params = params, display_report = True,\n",
    "#                                  pickle_ = True, pickle_dest = pickle_dest\n",
    "                                )"
   ]
  },
  {
   "cell_type": "code",
   "execution_count": null,
   "id": "c4255e8f",
   "metadata": {},
   "outputs": [],
   "source": [
    "params = {\n",
    "    'n_estimators': 1000,\n",
    "    'max_depth': 3,\n",
    "    'min_child_weight': 1,\n",
    "    'subsample':1,\n",
    "    'colsample_bytree':1,\n",
    "    'alpha': 1,\n",
    "    'gamma': 0.1\n",
    "}\n",
    "\n",
    "pickle_dest = '../data/models/best_xg_gensim_3gram.pickle'\n",
    "\n",
    "best_xg_gensim_3gram = run_model(X_train_gensim_3gram_sparse, X_test_gensim_3gram_sparse, y_train, y_test,\n",
    "                                 XGBClassifier(), model_params = params, display_report = True,\n",
    "#                                  pickle_ = True, pickle_dest = pickle_dest\n",
    "                                )"
   ]
  },
  {
   "cell_type": "code",
   "execution_count": null,
   "id": "7d26adcd",
   "metadata": {},
   "outputs": [],
   "source": [
    "params = {\n",
    "    'n_estimators': 1000,\n",
    "    'max_depth': 3,\n",
    "    'min_child_weight': 1,\n",
    "    'subsample':1,\n",
    "    'colsample_bytree':1,\n",
    "    'alpha': 1,\n",
    "    'gamma': 0.1\n",
    "}\n",
    "\n",
    "pickle_dest = '../data/models/best_xg_gensim_4gram.pickle'\n",
    "\n",
    "best_xg_gensim_4gram = run_model(X_train_gensim_4gram_sparse, X_test_gensim_4gram_sparse, y_train, y_test,\n",
    "                                 XGBClassifier(), model_params = params, display_report = True,\n",
    "#                                  pickle_ = True, pickle_dest = pickle_dest\n",
    "                                )"
   ]
  },
  {
   "cell_type": "code",
   "execution_count": null,
   "id": "842c1478",
   "metadata": {},
   "outputs": [],
   "source": [
    "params = {\n",
    "    'n_estimators': 500,\n",
    "    'max_depth': 3,\n",
    "    'min_child_weight': 1,\n",
    "    'subsample': 1,\n",
    "    'colsample_bytree':1,\n",
    "    'alpha': 1,\n",
    "    'gamma': 0.1\n",
    "}\n",
    "\n",
    "pickle_dest = '../data/models/best_xg_glove.pickle'\n",
    "\n",
    "best_xg_glove = run_model(X_train_glove, X_test_glove, y_train, y_test,\n",
    "                                        XGBClassifier(), model_params = params,\n",
    "#                           display_report = True,\n",
    "                                        pickle_ = True, pickle_dest = pickle_dest)"
   ]
  },
  {
   "cell_type": "code",
   "execution_count": null,
   "id": "49967567",
   "metadata": {},
   "outputs": [],
   "source": [
    "params = {\n",
    "    'n_estimators': 500,\n",
    "    'max_depth': 3,\n",
    "    'min_child_weight': 1,\n",
    "    'subsample':1,\n",
    "    'colsample_bytree':1,\n",
    "    'alpha': 1,\n",
    "    'gamma': 0.1\n",
    "}\n",
    "\n",
    "pickle_dest = '../data/models/best_xg_word2vec.pickle'\n",
    "\n",
    "best_xg_word2vec = run_model(X_train_word2vec, X_test_word2vec, y_train, y_test,\n",
    "                                        XGBClassifier(), model_params = params,\n",
    "#                              display_report = True,\n",
    "                                        pickle_ = True, pickle_dest = pickle_dest)"
   ]
  }
 ],
 "metadata": {
  "kernelspec": {
   "display_name": "Python 3",
   "language": "python",
   "name": "python3"
  },
  "language_info": {
   "codemirror_mode": {
    "name": "ipython",
    "version": 3
   },
   "file_extension": ".py",
   "mimetype": "text/x-python",
   "name": "python",
   "nbconvert_exporter": "python",
   "pygments_lexer": "ipython3",
   "version": "3.8.5"
  }
 },
 "nbformat": 4,
 "nbformat_minor": 5
}
