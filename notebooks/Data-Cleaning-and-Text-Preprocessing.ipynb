{
 "cells": [
  {
   "cell_type": "markdown",
   "id": "3aed1181",
   "metadata": {},
   "source": [
    "## Import Libraries"
   ]
  },
  {
   "cell_type": "code",
   "execution_count": null,
   "id": "e6769bd6",
   "metadata": {},
   "outputs": [],
   "source": [
    "import pandas as pd\n",
    "from project_functions.data_cleaning import process_data"
   ]
  },
  {
   "cell_type": "markdown",
   "id": "790622a6",
   "metadata": {},
   "source": [
    "# Clean and Process Data"
   ]
  },
  {
   "cell_type": "code",
   "execution_count": null,
   "id": "8f0f1744",
   "metadata": {},
   "outputs": [],
   "source": [
    "song_lyrics_file = '../data/raw/songlyrics_lyrics.csv'\n",
    "metadata_file = '../data/raw/music_data.tsv'\n",
    "dest_file = '../data/cleaned/tokenized_data_complete.parquet'\n",
    "merged_data_all_from_source = process_data(song_lyrics_file, metadata_file, dest_file, min_valid_tokens = 10)"
   ]
  }
 ],
 "metadata": {
  "kernelspec": {
   "display_name": "Python (learn-env)",
   "language": "python",
   "name": "learn-env"
  },
  "language_info": {
   "codemirror_mode": {
    "name": "ipython",
    "version": 3
   },
   "file_extension": ".py",
   "mimetype": "text/x-python",
   "name": "python",
   "nbconvert_exporter": "python",
   "pygments_lexer": "ipython3",
   "version": "3.8.5"
  }
 },
 "nbformat": 4,
 "nbformat_minor": 5
}
