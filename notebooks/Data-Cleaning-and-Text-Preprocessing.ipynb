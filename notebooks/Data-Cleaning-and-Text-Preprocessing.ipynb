{
 "cells": [
  {
   "cell_type": "code",
   "execution_count": 1,
   "id": "113b9d60",
   "metadata": {},
   "outputs": [],
   "source": [
    "import pandas as pd\n",
    "import re\n",
    "import nltk\n",
    "from nltk.tokenize import word_tokenize\n",
    "from nltk.corpus import stopwords\n",
    "from nltk import WordNetLemmatizer\n",
    "from nltk.corpus import wordnet\n",
    "from nltk import pos_tag"
   ]
  },
  {
   "cell_type": "code",
   "execution_count": 2,
   "id": "e8fcd05f",
   "metadata": {},
   "outputs": [],
   "source": [
    "def extract_correctly_matched_songs(file):\n",
    "    with open(file, 'r') as f:\n",
    "        genre_raw = f.readlines()\n",
    "    \n",
    "    matched_lyrics = [x for x in genre_raw\n",
    "                     if x.split('\\t')[1].lower() in x.split('\\t')[0].split('|')[0].lower()]\n",
    "    \n",
    "    matched_lyrics_split = [x.split('\\t') for x in matched_lyrics]\n",
    "    \n",
    "    \n",
    "    df = pd.DataFrame(matched_lyrics_split, columns = ['lyrics', 'song_title', 'artist'])\n",
    "    \n",
    "    return df\n",
    "    "
   ]
  },
  {
   "cell_type": "code",
   "execution_count": 3,
   "id": "c36640e3",
   "metadata": {},
   "outputs": [],
   "source": [
    "# helper function to change nltk's part of speech tagging to a wordnet format.\n",
    "def pos_tagger(nltk_tag):\n",
    "    if nltk_tag.startswith('J'):\n",
    "        return wordnet.ADJ\n",
    "    elif nltk_tag.startswith('V'):\n",
    "        return wordnet.VERB\n",
    "    elif nltk_tag.startswith('N'):\n",
    "        return wordnet.NOUN\n",
    "    elif nltk_tag.startswith('R'):\n",
    "        return wordnet.ADV\n",
    "    else:         \n",
    "        return None"
   ]
  },
  {
   "cell_type": "code",
   "execution_count": 42,
   "id": "5125cf3d",
   "metadata": {},
   "outputs": [],
   "source": [
    "def process_lyrics(df):\n",
    "    processed_df = df.copy()\n",
    "    # Lyrics processing\n",
    "    # Remove pipe delineations between lines, convert to spaces\n",
    "    processed_df.lyrics = processed_df.lyrics.str.split('|').str.join(' ')\n",
    "    # Remove scraping artifacts\n",
    "    processed_df.lyrics = processed_df.lyrics.str.replace(r'You might also like',\n",
    "                                                          r' ', regex = True)\n",
    "    processed_df.lyrics = processed_df.lyrics.str.replace(r'Embed',\n",
    "                                                          r' ', regex = True)\n",
    "    # Remove non-alphabetic characters and remove words with length <= 2\n",
    "    processed_df.lyrics = processed_df.lyrics.str.replace(r'[\\W\\d]',\n",
    "                                                          r' ', regex = True)\n",
    "    processed_df.lyrics = processed_df.lyrics.str.replace(r'\\b\\w{0,2}\\b',\n",
    "                                                          r' ', regex = True)\n",
    "    # Remove header 'Song title Lyrics'\n",
    "    processed_df.lyrics = processed_df.lyrics.str.replace(r'^[\\w\\W]+ Lyrics',\n",
    "                                                          r'', regex = True)\n",
    "    # Convert all lengths of whitespace to single whitespaces, strip outer whitespaces\n",
    "    processed_df.lyrics = processed_df.lyrics.str.replace(r'\\s+',\n",
    "                                                          r' ', regex = True).str.strip()\n",
    "    # Lowercase all words\n",
    "    processed_df.lyrics = processed_df.lyrics.str.lower()\n",
    "    # Reconvert to list\n",
    "    processed_df.lyrics = processed_df.lyrics.apply(lambda x: word_tokenize(x))\n",
    "    # Remove stopwords\n",
    "    stop_words = stopwords.words('english')\n",
    "    processed_df.lyrics = processed_df.lyrics.apply(lambda x:\\\n",
    "                                            [word for word in x if word not in stop_words])\n",
    "    # POS tagging and lemmatization\n",
    "    wnl = WordNetLemmatizer()\n",
    "    processed_df.lyrics = processed_df.lyrics.apply(lambda x: pos_tag(x))\n",
    "    processed_df.lyrics = processed_df.lyrics.apply(lambda x:\\\n",
    "                                                    [(y[0], pos_tagger(y[1])) for y in x])\n",
    "    processed_df.lyrics = processed_df.lyrics.apply(lambda x:\\\n",
    "                        [wnl.lemmatize(token, pos) for token, pos in x if pos is not None])\n",
    "    \n",
    "    # Artist Processing\n",
    "    # Remove newline characters from artist names\n",
    "    processed_df.artist = processed_df.artist.str.replace(r'\\n', r'', regex = True)\n",
    "    \n",
    "    return processed_df"
   ]
  },
  {
   "cell_type": "code",
   "execution_count": 32,
   "id": "3be56931",
   "metadata": {},
   "outputs": [],
   "source": [
    "file = '../data/raw/black_death_metal_song_lyrics.tsv'\n",
    "rock_death_black = extract_correctly_matched_songs(file)"
   ]
  },
  {
   "cell_type": "code",
   "execution_count": 43,
   "id": "15c1ca65",
   "metadata": {},
   "outputs": [],
   "source": [
    "rock_death_black_processed = process_lyrics(rock_death_black)"
   ]
  },
  {
   "cell_type": "code",
   "execution_count": 48,
   "id": "2a1a5a93",
   "metadata": {},
   "outputs": [
    {
     "data": {
      "text/plain": [
       "'line spew forth death meat bone march dawnless night bear die procreation sick spawn sicken breed carry forth putrid seed onward die sacrifice life field carnal remains war continue drench blood sewage warrior crawl forth onwards die burn warmachine churn spit forth death disease bring'"
      ]
     },
     "execution_count": 48,
     "metadata": {},
     "output_type": "execute_result"
    }
   ],
   "source": [
    "rock_death_black_processed.lyrics.str.join(' ')[0]"
   ]
  },
  {
   "cell_type": "code",
   "execution_count": 49,
   "id": "72a31b99",
   "metadata": {},
   "outputs": [
    {
     "data": {
      "text/plain": [
       "'Onward To Die Lyrics Lining up to spew forth death Meat and bone now march Into a dawnless night Born only to die Procreation of the sick A spawn of sickened breed To carry forth their putrid seed Onward to die Sacrificed your life Upon fields of carnal remains The war continues Drenched in blood and sewage The warriors crawl forth Onwards to die and burn The warmachine churns Spitting forth the death And the the disease they bring'"
      ]
     },
     "execution_count": 49,
     "metadata": {},
     "output_type": "execute_result"
    }
   ],
   "source": [
    "rock_death_black.lyrics.str.split('|').str.join(' ')[0]"
   ]
  },
  {
   "cell_type": "code",
   "execution_count": 50,
   "id": "ff124579",
   "metadata": {},
   "outputs": [
    {
     "data": {
      "text/html": [
       "<div>\n",
       "<style scoped>\n",
       "    .dataframe tbody tr th:only-of-type {\n",
       "        vertical-align: middle;\n",
       "    }\n",
       "\n",
       "    .dataframe tbody tr th {\n",
       "        vertical-align: top;\n",
       "    }\n",
       "\n",
       "    .dataframe thead th {\n",
       "        text-align: right;\n",
       "    }\n",
       "</style>\n",
       "<table border=\"1\" class=\"dataframe\">\n",
       "  <thead>\n",
       "    <tr style=\"text-align: right;\">\n",
       "      <th></th>\n",
       "      <th>lyrics</th>\n",
       "      <th>song_title</th>\n",
       "      <th>artist</th>\n",
       "    </tr>\n",
       "  </thead>\n",
       "  <tbody>\n",
       "    <tr>\n",
       "      <th>0</th>\n",
       "      <td>[line, spew, forth, death, meat, bone, march, ...</td>\n",
       "      <td>Onward to Die</td>\n",
       "      <td>Paganizer</td>\n",
       "    </tr>\n",
       "    <tr>\n",
       "      <th>1</th>\n",
       "      <td>[distant, place, know, float, air, midnight, s...</td>\n",
       "      <td>An Eternal Dark Horizon</td>\n",
       "      <td>Throne Of Katarsis</td>\n",
       "    </tr>\n",
       "    <tr>\n",
       "      <th>2</th>\n",
       "      <td>[dead, risen, worship, icon, resist, new, hope...</td>\n",
       "      <td>An Icon for the Damned</td>\n",
       "      <td>Paganizer</td>\n",
       "    </tr>\n",
       "    <tr>\n",
       "      <th>3</th>\n",
       "      <td>[saw, morbid, dream, feel, lust, drift, place,...</td>\n",
       "      <td>Slaughtered Corpse</td>\n",
       "      <td>Amagortis</td>\n",
       "    </tr>\n",
       "    <tr>\n",
       "      <th>4</th>\n",
       "      <td>[flame, knight, meet, severe, thy, moonshine, ...</td>\n",
       "      <td>Heraldic</td>\n",
       "      <td>Autumnblaze</td>\n",
       "    </tr>\n",
       "    <tr>\n",
       "      <th>...</th>\n",
       "      <td>...</td>\n",
       "      <td>...</td>\n",
       "      <td>...</td>\n",
       "    </tr>\n",
       "    <tr>\n",
       "      <th>5194</th>\n",
       "      <td>[nocturnal, wish, sin, crave, shadow, thirsty,...</td>\n",
       "      <td>Kingdom of Abyss</td>\n",
       "      <td>Christ Agony</td>\n",
       "    </tr>\n",
       "    <tr>\n",
       "      <th>5195</th>\n",
       "      <td>[spirit, live, creature, different, color, bea...</td>\n",
       "      <td>Eye Sockets Empty</td>\n",
       "      <td>Centinex</td>\n",
       "    </tr>\n",
       "    <tr>\n",
       "      <th>5196</th>\n",
       "      <td>[search, specie, cover, terror, devourer, move...</td>\n",
       "      <td>Devourer of Worlds</td>\n",
       "      <td>Debauchery</td>\n",
       "    </tr>\n",
       "    <tr>\n",
       "      <th>5197</th>\n",
       "      <td>[bag, fly, sea, introduce, plastic, plague, tr...</td>\n",
       "      <td>Immensity</td>\n",
       "      <td>Aeolian</td>\n",
       "    </tr>\n",
       "    <tr>\n",
       "      <th>5198</th>\n",
       "      <td>[beast, hide, hole, night, fall, wolf, king, h...</td>\n",
       "      <td>Return of the Wolf King</td>\n",
       "      <td>Aeolian</td>\n",
       "    </tr>\n",
       "  </tbody>\n",
       "</table>\n",
       "<p>5199 rows × 3 columns</p>\n",
       "</div>"
      ],
      "text/plain": [
       "                                                 lyrics  \\\n",
       "0     [line, spew, forth, death, meat, bone, march, ...   \n",
       "1     [distant, place, know, float, air, midnight, s...   \n",
       "2     [dead, risen, worship, icon, resist, new, hope...   \n",
       "3     [saw, morbid, dream, feel, lust, drift, place,...   \n",
       "4     [flame, knight, meet, severe, thy, moonshine, ...   \n",
       "...                                                 ...   \n",
       "5194  [nocturnal, wish, sin, crave, shadow, thirsty,...   \n",
       "5195  [spirit, live, creature, different, color, bea...   \n",
       "5196  [search, specie, cover, terror, devourer, move...   \n",
       "5197  [bag, fly, sea, introduce, plastic, plague, tr...   \n",
       "5198  [beast, hide, hole, night, fall, wolf, king, h...   \n",
       "\n",
       "                   song_title              artist  \n",
       "0               Onward to Die           Paganizer  \n",
       "1     An Eternal Dark Horizon  Throne Of Katarsis  \n",
       "2      An Icon for the Damned           Paganizer  \n",
       "3          Slaughtered Corpse           Amagortis  \n",
       "4                    Heraldic         Autumnblaze  \n",
       "...                       ...                 ...  \n",
       "5194         Kingdom of Abyss        Christ Agony  \n",
       "5195        Eye Sockets Empty            Centinex  \n",
       "5196       Devourer of Worlds          Debauchery  \n",
       "5197                Immensity             Aeolian  \n",
       "5198  Return of the Wolf King             Aeolian  \n",
       "\n",
       "[5199 rows x 3 columns]"
      ]
     },
     "execution_count": 50,
     "metadata": {},
     "output_type": "execute_result"
    }
   ],
   "source": [
    "rock_death_black_processed"
   ]
  },
  {
   "cell_type": "code",
   "execution_count": null,
   "id": "3d1fdae0",
   "metadata": {},
   "outputs": [],
   "source": []
  }
 ],
 "metadata": {
  "kernelspec": {
   "display_name": "Python (learn-env)",
   "language": "python",
   "name": "learn-env"
  },
  "language_info": {
   "codemirror_mode": {
    "name": "ipython",
    "version": 3
   },
   "file_extension": ".py",
   "mimetype": "text/x-python",
   "name": "python",
   "nbconvert_exporter": "python",
   "pygments_lexer": "ipython3",
   "version": "3.8.5"
  }
 },
 "nbformat": 4,
 "nbformat_minor": 5
}
