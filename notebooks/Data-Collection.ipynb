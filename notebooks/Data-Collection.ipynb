{
 "cells": [
  {
   "cell_type": "code",
   "execution_count": 3,
   "id": "ca0610a6",
   "metadata": {},
   "outputs": [],
   "source": [
    "import requests\n",
    "import numpy as np\n",
    "import pandas as pd\n",
    "import time\n",
    "import pickle\n",
    "import re\n",
    "from lyricsgenius import Genius\n",
    "from bs4 import BeautifulSoup\n",
    "from Keys import musixmatch_key\n",
    "from project_functions.scraping import get_musix_genres, get_musix_track_info_by_genre\n",
    "from project_functions.scraping import clean_titles, scrape_songlyrics"
   ]
  },
  {
   "cell_type": "code",
   "execution_count": null,
   "id": "df75fb92",
   "metadata": {},
   "outputs": [],
   "source": [
    "musixmatch_url = 'https://api.musixmatch.com/ws/1.1/'\n",
    "# musix_genres = get_musix_genres(musixmatch_key)\n",
    "with open('../data/raw/genres_dict.pickle', 'rb') as f:\n",
    "    musix_genres = pickle.load(f)\n",
    "    \n",
    "genre_ids_to_keep = [2, 6, 11, 14, 15, 17, 18, 20, 22, 24, 1149, 1152]\n",
    "genres_to_extract = [x for x in musix_genres if x['genre_id'] in genre_ids_to_keep]"
   ]
  },
  {
   "cell_type": "code",
   "execution_count": null,
   "id": "35ee9bee",
   "metadata": {},
   "outputs": [],
   "source": [
    "# file = '../data/raw/music_data.tsv'\n",
    "# get_musix_track_info_by_genre(genres_to_extract, musixmatch_key, file, id_limit = 10_000)"
   ]
  },
  {
   "cell_type": "code",
   "execution_count": null,
   "id": "e0e1d558",
   "metadata": {},
   "outputs": [],
   "source": [
    "columns = ['title_id', 'title_name', 'genre_id', 'genre_name', 'album_id', 'album_name', 'artist_id', 'artist_name']\n",
    "genres = pd.read_csv('../data/raw/music_data.tsv', sep = '\\t', header = None)\n",
    "genres.columns = columns\n",
    "cleaned_genres = clean_titles(genres)"
   ]
  },
  {
   "cell_type": "code",
   "execution_count": null,
   "id": "e970a41d",
   "metadata": {},
   "outputs": [],
   "source": [
    "# file = '../data/raw/songlyrics_lyrics.csv'\n",
    "# scrape_songlyrics(cleaned_genres.reset_index().drop('index', axis = 1), file, title_key = 'clean_title')"
   ]
  }
 ],
 "metadata": {
  "kernelspec": {
   "display_name": "Python 3",
   "language": "python",
   "name": "python3"
  },
  "language_info": {
   "codemirror_mode": {
    "name": "ipython",
    "version": 3
   },
   "file_extension": ".py",
   "mimetype": "text/x-python",
   "name": "python",
   "nbconvert_exporter": "python",
   "pygments_lexer": "ipython3",
   "version": "3.8.5"
  }
 },
 "nbformat": 4,
 "nbformat_minor": 5
}
