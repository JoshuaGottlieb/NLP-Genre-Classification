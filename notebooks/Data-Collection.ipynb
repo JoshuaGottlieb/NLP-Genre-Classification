{
 "cells": [
  {
   "cell_type": "code",
   "execution_count": null,
   "id": "b60649dd",
   "metadata": {},
   "outputs": [],
   "source": [
    "import requests\n",
    "import pandas as pd\n",
    "import json\n",
    "import Keys\n",
    "import time\n",
    "import pickle\n",
    "import re\n",
    "from lyricsgenius import Genius"
   ]
  },
  {
   "cell_type": "code",
   "execution_count": null,
   "id": "a99a2a68",
   "metadata": {},
   "outputs": [],
   "source": [
    "def get_musix_genres(key):\n",
    "    url = 'https://api.musixmatch.com/ws/1.1/'\n",
    "    sub_url = 'music.genres.get'\n",
    "    params = {\n",
    "        'apikey': key\n",
    "    }\n",
    "    \n",
    "    musix_genres_json = requests.get(url + sub_url, params = params).json()['message']['body']['music_genre_list']\n",
    "    \n",
    "    musix_genres = []\n",
    "    \n",
    "    for dictionary in musix_genres_json:\n",
    "        genre = dictionary['music_genre']\n",
    "        musix_genres.append({'genre_id': genre['music_genre_id'],\n",
    "                             'genre_name': genre['music_genre_vanity']})\n",
    "    \n",
    "    return musix_genres"
   ]
  },
  {
   "cell_type": "code",
   "execution_count": null,
   "id": "c04e8eeb",
   "metadata": {},
   "outputs": [],
   "source": [
    "def get_musix_track_info_by_genre(genres, key, file, id_limit = 5000):\n",
    "    url = 'https://api.musixmatch.com/ws/1.1/'\n",
    "    sub_url = 'track.search'\n",
    "    \n",
    "    for genre in genres:\n",
    "        params = {\n",
    "            'apikey': key,\n",
    "            'q_track': '*',\n",
    "            'f_music_genre_id': genre['genre_id'],\n",
    "            'f_has_lyrics': 1,\n",
    "            'f_lyrics_language': 'en',\n",
    "            'page_size': 100,\n",
    "            'page': 1\n",
    "        }\n",
    "        \n",
    "        num_tracks = requests.get(url + sub_url, params = params).json()['message']['header']['available']\n",
    "        page_limit = min(num_tracks, id_limit)\n",
    "        page_max = (page_limit // 100) + 1\n",
    "        pages = range(2, page_max)\n",
    "        \n",
    "        print('{}: Retrieving {} ids in {} pages'.format(genre['genre_name'], page_limit, page_max - 1))\n",
    "        print('Retrieving page 1 of {}'.format(page_max - 1))\n",
    "        \n",
    "        tracks = requests.get(url + sub_url, params = params).json()['message']['body']['track_list']\n",
    "        \n",
    "        with open(file, 'a') as f:\n",
    "            track_info = [\"{}\\t{}\\t{}\\t{}\\t{}\\t{}\\t{}\\t{}\\n\".format(track['track']['track_id'],\n",
    "                                                                    track['track']['track_name'],\n",
    "                                                                    genre['genre_id'],\n",
    "                                                                    genre['genre_name'],\n",
    "                                                                    track['track']['album_id'],\n",
    "                                                                    track['track']['album_name'],\n",
    "                                                                    track['track']['artist_id'],\n",
    "                                                                    track['track']['artist_name'])\n",
    "                          for track in tracks]\n",
    "                         \n",
    "            f.writelines(track_info)\n",
    "\n",
    "        for page in pages:\n",
    "            time.sleep(1.0)\n",
    "            params['page'] = page\n",
    "            print('Retrieving page {} of {}'.format(page, page_max - 1))\n",
    "            tracks = requests.get(url + sub_url, params = params).json()['message']['body']['track_list']\n",
    "            \n",
    "            with open(file, 'a') as f:\n",
    "                track_info = [\"{}\\t{}\\t{}\\t{}\\t{}\\t{}\\t{}\\t{}\\n\".format(track['track']['track_id'],\n",
    "                                                                        track['track']['track_name'],\n",
    "                                                                        genre['genre_id'],\n",
    "                                                                        genre['genre_name'],\n",
    "                                                                        track['track']['album_id'],\n",
    "                                                                        track['track']['album_name'],\n",
    "                                                                        track['track']['artist_id'],\n",
    "                                                                        track['track']['artist_name'])\n",
    "                              for track in tracks]\n",
    "\n",
    "                f.writelines(track_info)\n",
    "    \n",
    "        print('Retrieved {} ids for genre {}'.format(page_limit, genre['genre_name']))\n",
    "    \n",
    "    return"
   ]
  },
  {
   "cell_type": "code",
   "execution_count": null,
   "id": "bf11e409",
   "metadata": {},
   "outputs": [],
   "source": [
    "def scrape_song_lyrics(df, key, file):\n",
    "    genius = Genius(key)\n",
    "    \n",
    "    for row in df.index:\n",
    "        title = df.iloc[row].title_name\n",
    "        artist = df.iloc[row].artist_name\n",
    "        try:\n",
    "            song = genius.search_song(title, artist)\n",
    "        except Exception:\n",
    "            with open('../data/raw/exception-log.txt', 'a') as f:\n",
    "                f.write('{}, {}, {}'.format(str(type(Exception)), title, artist))\n",
    "            continue\n",
    "            \n",
    "        if song is None:\n",
    "            continue\n",
    "        \n",
    "        song_split = song.lyrics.split('\\n')\n",
    "        song_split_no_empty_headers = [x for x in song_split if '(' not in x and x != '' and '[' not in x]\n",
    "        song_scraped_artefacts_removed = []\n",
    "\n",
    "        for line in song_split_no_empty_headers:\n",
    "            song_scraped_artefacts_removed.append(re.sub(r'([A-Z]?[a-z]+)[A-Z][\\w\\W]+', '\\g<1>', line))\n",
    "\n",
    "        lyrics = '|'.join(song_scraped_artefacts_removed)\n",
    "\n",
    "        with open(file, 'a') as f:\n",
    "            f.write('{}\\t{}\\t{}\\n'.format(lyrics, title, artist))\n",
    "            \n",
    "    return"
   ]
  },
  {
   "cell_type": "code",
   "execution_count": null,
   "id": "ccf6a341",
   "metadata": {},
   "outputs": [],
   "source": [
    "def get_genre_subframe(frame, genre):\n",
    "    return frame.loc[frame.genre_name == genre].reset_index().drop('index', axis = 1)"
   ]
  },
  {
   "cell_type": "code",
   "execution_count": null,
   "id": "18ff660b",
   "metadata": {},
   "outputs": [],
   "source": [
    "musixmatch_url = 'https://api.musixmatch.com/ws/1.1/'\n",
    "musixmatch_key = Keys.musixmatch_key\n",
    "genius_access_token = Keys.genius_access_token"
   ]
  },
  {
   "cell_type": "code",
   "execution_count": null,
   "id": "c6292624",
   "metadata": {},
   "outputs": [],
   "source": [
    "with open('../data/raw/genres_dict.pickle', 'rb') as f:\n",
    "    musix_genres = pickle.load(f)\n",
    "    \n",
    "genre_ids_to_keep = [2, 6, 11, 14, 15, 17, 18, 20, 22, 24, 1149, 1152]\n",
    "genres_to_extract = [x for x in musix_genres if x['genre_id'] in genre_ids_to_keep]"
   ]
  },
  {
   "cell_type": "code",
   "execution_count": null,
   "id": "b185e4ed",
   "metadata": {},
   "outputs": [],
   "source": [
    "# file = '../data/raw/musix_match_track_data_with_artists_and_albums-02.tsv'\n",
    "# get_musix_track_info_by_genre(genres_to_extract, musixmatch_key, file, id_limit = 10_000)"
   ]
  },
  {
   "cell_type": "code",
   "execution_count": null,
   "id": "c9fadce1",
   "metadata": {},
   "outputs": [],
   "source": [
    "columns = ['title_id', 'title_name', 'genre_id', 'genre_name', 'album_id', 'album_name', 'artist_id', 'artist_name']\n",
    "first_half_genres = pd.read_csv('../data/raw/musix_match_track_data_with_artists_and_albums.tsv',\n",
    "                                sep = '\\t', header = None)\n",
    "first_half_genres.columns = columns\n",
    "second_half_genres = pd.read_csv('../data/raw/musix_match_track_data_with_artists_and_albums-02.tsv',\n",
    "                                 sep = '\\t', header = None)\n",
    "second_half_genres.columns = columns"
   ]
  },
  {
   "cell_type": "code",
   "execution_count": null,
   "id": "a789b02a",
   "metadata": {},
   "outputs": [],
   "source": [
    "rock_death_black = get_genre_subframe(first_half_genres, 'Rock-Death-Metal-Black-Metal')\n",
    "rock_hard_rock = get_genre_subframe(first_half_genres, 'Rock-Hard-Rock')\n",
    "blues = get_genre_subframe(first_half_genres, 'Blues')\n",
    "jazz = get_genre_subframe(first_half_genres, 'Jazz')\n",
    "country = get_genre_subframe(first_half_genres, 'Country')\n",
    "\n",
    "reggae = get_genre_subframe(second_half_genres, 'Reggae')\n",
    "christian_gospel = get_genre_subframe(second_half_genres, 'Christian-Gospel')\n",
    "rb_soul = get_genre_subframe(second_half_genres, 'R-B-Soul')\n",
    "dance = get_genre_subframe(second_half_genres, 'Dance')\n",
    "pop = get_genre_subframe(second_half_genres, 'Pop')\n",
    "hip_hop_rap = get_genre_subframe(second_half_genres, 'Hip-Hop-Rap')\n",
    "alternative = get_genre_subframe(second_half_genres, 'Alternative')"
   ]
  },
  {
   "cell_type": "code",
   "execution_count": null,
   "id": "48f4a192",
   "metadata": {},
   "outputs": [],
   "source": [
    "# file = '../data/raw/rock_death_black_song_lyrics.tsv'\n",
    "# scrape_song_lyrics(rock_death_black, genius_access_token, file)"
   ]
  },
  {
   "cell_type": "code",
   "execution_count": null,
   "id": "900fb70b",
   "metadata": {},
   "outputs": [],
   "source": [
    "# file = '../data/raw/rock_hard_rock_song_lyrics.tsv'\n",
    "# scrape_song_lyrics(rock_hard_rock, genius_access_token, file)"
   ]
  },
  {
   "cell_type": "code",
   "execution_count": null,
   "id": "569ab3ac",
   "metadata": {},
   "outputs": [],
   "source": [
    "# file = '../data/raw/blues_song_lyrics.tsv'\n",
    "# scrape_song_lyrics(blues, genius_access_token, file)"
   ]
  },
  {
   "cell_type": "code",
   "execution_count": null,
   "id": "3bf67a04",
   "metadata": {},
   "outputs": [],
   "source": [
    "# file = '../data/raw/jazz_song_lyrics.tsv'\n",
    "# scrape_song_lyrics(jazz, genius_access_token, file)"
   ]
  },
  {
   "cell_type": "code",
   "execution_count": null,
   "id": "f0e584be",
   "metadata": {},
   "outputs": [],
   "source": [
    "# file = '../data/raw/reggae_song_lyrics.tsv'\n",
    "# scrape_song_lyrics(reggae, genius_access_token, file)"
   ]
  },
  {
   "cell_type": "code",
   "execution_count": null,
   "id": "6766c448",
   "metadata": {},
   "outputs": [],
   "source": [
    "# file = '../data/raw/christian_gospel_song_lyrics.tsv'\n",
    "# scrape_song_lyrics(christian_gospel, genius_access_token, file)"
   ]
  },
  {
   "cell_type": "code",
   "execution_count": null,
   "id": "59544f50",
   "metadata": {},
   "outputs": [],
   "source": [
    "# file = '../data/raw/dance_song_lyrics.tsv'\n",
    "# scrape_song_lyrics(dance, genius_access_token, file)"
   ]
  },
  {
   "cell_type": "code",
   "execution_count": null,
   "id": "e481a963",
   "metadata": {},
   "outputs": [],
   "source": [
    "# file = '../data/raw/pop_song_lyrics.tsv'\n",
    "# scrape_song_lyrics(pop, genius_access_token, file)"
   ]
  },
  {
   "cell_type": "code",
   "execution_count": null,
   "id": "fb585b7e",
   "metadata": {},
   "outputs": [],
   "source": [
    "# file = '../data/raw/hip_hop_rap_song_lyrics.tsv'\n",
    "# scrape_song_lyrics(hip_hop_rap, genius_access_token, file)"
   ]
  },
  {
   "cell_type": "code",
   "execution_count": null,
   "id": "0390b139",
   "metadata": {},
   "outputs": [],
   "source": [
    "# file = '../data/raw/alternative_song_lyrics.tsv'\n",
    "# scrape_song_lyrics(alternative, genius_access_token, file)"
   ]
  },
  {
   "cell_type": "code",
   "execution_count": null,
   "id": "17557228",
   "metadata": {},
   "outputs": [],
   "source": []
  },
  {
   "cell_type": "code",
   "execution_count": null,
   "id": "d7670736",
   "metadata": {},
   "outputs": [],
   "source": []
  }
 ],
 "metadata": {
  "kernelspec": {
   "display_name": "Python 3 (ipykernel)",
   "language": "python",
   "name": "python3"
  },
  "language_info": {
   "codemirror_mode": {
    "name": "ipython",
    "version": 3
   },
   "file_extension": ".py",
   "mimetype": "text/x-python",
   "name": "python",
   "nbconvert_exporter": "python",
   "pygments_lexer": "ipython3",
   "version": "3.8.10"
  }
 },
 "nbformat": 4,
 "nbformat_minor": 5
}
