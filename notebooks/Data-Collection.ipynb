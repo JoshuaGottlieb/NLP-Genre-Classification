{
 "cells": [
  {
   "cell_type": "code",
   "execution_count": null,
   "id": "89dde817",
   "metadata": {},
   "outputs": [],
   "source": [
    "import requests\n",
    "import numpy as np\n",
    "import pandas as pd\n",
    "import json\n",
    "import Keys\n",
    "import time\n",
    "import pickle\n",
    "import re\n",
    "from lyricsgenius import Genius\n",
    "from bs4 import BeautifulSoup"
   ]
  },
  {
   "cell_type": "code",
   "execution_count": null,
   "id": "1ca81548",
   "metadata": {},
   "outputs": [],
   "source": [
    "def get_musix_genres(key):\n",
    "    url = 'https://api.musixmatch.com/ws/1.1/'\n",
    "    sub_url = 'music.genres.get'\n",
    "    params = {\n",
    "        'apikey': key\n",
    "    }\n",
    "    \n",
    "    musix_genres_json = requests.get(url + sub_url, params = params).json()['message']['body']['music_genre_list']\n",
    "    \n",
    "    musix_genres = []\n",
    "    \n",
    "    for dictionary in musix_genres_json:\n",
    "        genre = dictionary['music_genre']\n",
    "        musix_genres.append({'genre_id': genre['music_genre_id'],\n",
    "                             'genre_name': genre['music_genre_vanity']})\n",
    "    \n",
    "    return musix_genres"
   ]
  },
  {
   "cell_type": "code",
   "execution_count": null,
   "id": "f621ae94",
   "metadata": {},
   "outputs": [],
   "source": [
    "def get_musix_track_info_by_genre(genres, key, file, id_limit = 5000):\n",
    "    url = 'https://api.musixmatch.com/ws/1.1/'\n",
    "    sub_url = 'track.search'\n",
    "    \n",
    "    for genre in genres:\n",
    "        params = {\n",
    "            'apikey': key,\n",
    "            'q_track': '*',\n",
    "            'f_music_genre_id': genre['genre_id'],\n",
    "            'f_has_lyrics': 1,\n",
    "            'f_lyrics_language': 'en',\n",
    "            'page_size': 100,\n",
    "            'page': 1\n",
    "        }\n",
    "        \n",
    "        num_tracks = requests.get(url + sub_url, params = params).json()['message']['header']['available']\n",
    "        page_limit = min(num_tracks, id_limit)\n",
    "        page_max = (page_limit // 100) + 1\n",
    "        pages = range(2, page_max)\n",
    "        \n",
    "        print('{}: Retrieving {} ids in {} pages'.format(genre['genre_name'], page_limit, page_max - 1))\n",
    "        print('Retrieving page 1 of {}'.format(page_max - 1))\n",
    "        \n",
    "        tracks = requests.get(url + sub_url, params = params).json()['message']['body']['track_list']\n",
    "        \n",
    "        with open(file, 'a') as f:\n",
    "            track_info = [\"{}\\t{}\\t{}\\t{}\\t{}\\t{}\\t{}\\t{}\\n\".format(track['track']['track_id'],\n",
    "                                                                    track['track']['track_name'],\n",
    "                                                                    genre['genre_id'],\n",
    "                                                                    genre['genre_name'],\n",
    "                                                                    track['track']['album_id'],\n",
    "                                                                    track['track']['album_name'],\n",
    "                                                                    track['track']['artist_id'],\n",
    "                                                                    track['track']['artist_name'])\n",
    "                          for track in tracks]\n",
    "                         \n",
    "            f.writelines(track_info)\n",
    "\n",
    "        for page in pages:\n",
    "            time.sleep(1.0)\n",
    "            params['page'] = page\n",
    "            print('Retrieving page {} of {}'.format(page, page_max - 1))\n",
    "            tracks = requests.get(url + sub_url, params = params).json()['message']['body']['track_list']\n",
    "            \n",
    "            with open(file, 'a') as f:\n",
    "                track_info = [\"{}\\t{}\\t{}\\t{}\\t{}\\t{}\\t{}\\t{}\\n\".format(track['track']['track_id'],\n",
    "                                                                        track['track']['track_name'],\n",
    "                                                                        genre['genre_id'],\n",
    "                                                                        genre['genre_name'],\n",
    "                                                                        track['track']['album_id'],\n",
    "                                                                        track['track']['album_name'],\n",
    "                                                                        track['track']['artist_id'],\n",
    "                                                                        track['track']['artist_name'])\n",
    "                              for track in tracks]\n",
    "\n",
    "                f.writelines(track_info)\n",
    "    \n",
    "        print('Retrieved {} ids for genre {}'.format(page_limit, genre['genre_name']))\n",
    "    \n",
    "    return"
   ]
  },
  {
   "cell_type": "code",
   "execution_count": null,
   "id": "11ef5d06",
   "metadata": {},
   "outputs": [],
   "source": [
    "def scrape_song_lyrics(df, key, file, title_key = 'title_name'):\n",
    "    genius = Genius(key)\n",
    "    \n",
    "    for row in df.index:\n",
    "        title = df.iloc[row][title_key]\n",
    "        title_raw = df.iloc[row].title_name\n",
    "        artist = df.iloc[row].artist_name\n",
    "        try:\n",
    "            song = genius.search_song(title, artist)\n",
    "        except Exception:\n",
    "            with open('../data/raw/exception-log.txt', 'a') as f:\n",
    "                f.write('{}, {}, {}'.format(str(type(Exception)), title, artist))\n",
    "            continue\n",
    "            \n",
    "        if song is None:\n",
    "            continue\n",
    "        \n",
    "        song_split = song.lyrics.split('\\n')\n",
    "        song_split_no_empty_headers = [x for x in song_split if '(' not in x and x != '' and '[' not in x]\n",
    "        song_scraped_artefacts_removed = []\n",
    "\n",
    "        for line in song_split_no_empty_headers:\n",
    "            song_scraped_artefacts_removed.append(re.sub(r'([A-Z]?[a-z]+)[A-Z][\\w\\W]+', '\\g<1>', line))\n",
    "\n",
    "        lyrics = '|'.join(song_scraped_artefacts_removed)\n",
    "\n",
    "        with open(file, 'a') as f:\n",
    "            f.write('{}\\t{}\\t{}\\n'.format(lyrics, title_raw, artist))\n",
    "            \n",
    "    return"
   ]
  },
  {
   "cell_type": "code",
   "execution_count": null,
   "id": "d4c28bca",
   "metadata": {},
   "outputs": [],
   "source": [
    "def get_genre_subframe(frame, genre):\n",
    "    return frame.loc[frame.genre_name == genre].reset_index().drop('index', axis = 1)"
   ]
  },
  {
   "cell_type": "code",
   "execution_count": null,
   "id": "6116504d",
   "metadata": {},
   "outputs": [],
   "source": [
    "def extract_songs_no_lyrics(files, target):\n",
    "    df = pd.DataFrame()\n",
    "    for file in files:\n",
    "        with open(file, 'r') as f:\n",
    "            lines = f.readlines()\n",
    "        \n",
    "        lines_split = [x.split('\\t') for x in lines]\n",
    "        valid_split = [x for x in lines_split if len(x) == 3]\n",
    "        temp_frame = pd.DataFrame(valid_split, columns = ['lyrics', 'title_name', 'artist_name'])\n",
    "        temp_frame.artist_name = temp_frame.artist_name.str.replace(r'\\n', r'', regex = True)\n",
    "        df = pd.concat([df, temp_frame], axis = 0)\n",
    "        \n",
    "    merged_df = target.merge(df, how = 'left', on = ['title_name', 'artist_name'])\n",
    "    \n",
    "    return merged_df.loc[merged_df.lyrics.isna()]"
   ]
  },
  {
   "cell_type": "code",
   "execution_count": null,
   "id": "d22643a0",
   "metadata": {},
   "outputs": [],
   "source": [
    "def clean_titles(original_df):\n",
    "    df = original_df.copy()\n",
    "    df['clean_title'] = df.title_name\n",
    "    # Replace any expressions in parentheses or brackets with spaces\n",
    "    df.clean_title = df.clean_title.str.replace(r'\\(.+\\)', r' ', regex = True)\n",
    "    df.clean_title = df.clean_title.str.replace(r'\\[.+\\]', r' ', regex = True)\n",
    "    # Replace any instances of Remix, Remaster, Live, Radio Edit, Extended, and Bonus with spaces\n",
    "    df.clean_title = df.clean_title.str.replace(r'[Rr]emix(ed)?', r' ', regex = True)\n",
    "    df.clean_title = df.clean_title.str.replace(r'[Rr]emaster(ed)?', r' ', regex = True)\n",
    "    df.clean_title = df.clean_title.str.replace(r'[Ll]ive', r' ', regex = True)\n",
    "    df.clean_title = df.clean_title.str.replace(r'[Rr]adio [Ee]dit', r' ', regex = True)\n",
    "    df.clean_title = df.clean_title.str.replace(r'[Ee]xtended', r' ', regex = True)\n",
    "    df.clean_title = df.clean_title.str.replace(r'[Bb]onus( [Tt]rack)?', r' ', regex = True)\n",
    "    # Replace all Japanese/Chinese characters with spaces\n",
    "    df.clean_title = df.clean_title.str.replace(r'[一-龠ぁ-んァ-ヴｦ-ﾟ]', r' ', regex = True)\n",
    "    # Replace any non-alphanumeric, non-Latin, non-apostrophe character with spaces\n",
    "    df.clean_title = df.clean_title.str.replace(r'/[^A-Za-zFâäèéêëîïôœùûüÿçÀÂÄÈÉÊËÎÏÔŒÙÛÜŸÇÖöǾǿØ̈ø̈\\d\\']+/',\n",
    "                                              r' ', regex = True)\n",
    "    # Convert any non-hyphen dashes and following characters into spaces\n",
    "    df.clean_title = df.clean_title.str.replace(r'- [\\w\\W]+', r' ', regex = True)\n",
    "    # Convert all series of spaces to single space\n",
    "    df.clean_title = df.clean_title.str.replace(r'\\s+', r' ', regex = True)\n",
    "    # Strip leading and trailing dashes and spaces\n",
    "    df.clean_title = df.clean_title.str.strip('- ')\n",
    "    # Drop rows whose titles are now empty\n",
    "    df = df.loc[df.clean_title != '']\n",
    "    \n",
    "    return df.reset_index().drop('index', axis = 1)"
   ]
  },
  {
   "cell_type": "code",
   "execution_count": null,
   "id": "663b24a8",
   "metadata": {},
   "outputs": [],
   "source": [
    "def scrape_songlyrics(df, file, title_key = 'title_name'):\n",
    "    base_url = 'https://www.songlyrics.com/'\n",
    "    url_tail = '-lyrics'\n",
    "    for step, row in enumerate(df.index):\n",
    "        time.sleep(0.5)\n",
    "#         if step % 50:\n",
    "#             time.sleep(2)\n",
    "        title = df.iloc[row][title_key]\n",
    "        title_raw = df.iloc[row].title_name\n",
    "        artist = df.iloc[row].artist_name\n",
    "        \n",
    "        title_string = '-'.join(title.split(' '))\n",
    "        artist_string = '-'.join(artist.split(' '))\n",
    "        url = base_url + title_string + '/' + artist_string + url_tail\n",
    "        \n",
    "        print('Scraping for {} by {}'.format(title, artist))\n",
    "        r = requests.get(url = url)\n",
    "        soup = BeautifulSoup(r.text)\n",
    "        try:\n",
    "            lyrics = soup.find_all(id = \"songLyricsDiv\")[0].text\n",
    "        except Exception:\n",
    "            print('Error retrieving lyrics for {} by {}'.format(title, artist))\n",
    "            continue\n",
    "        \n",
    "        if ' '.join(lyrics.split()[0:4]) == 'Sorry, we have no':\n",
    "            print('No lyrics found for {} by {}'.format(title, artist))\n",
    "            continue\n",
    "        else:\n",
    "            lyrics = re.sub('\\n', ' ', lyrics)     \n",
    "            print('Writing lyrics for {} by {} to {}'.format(title, artist, file))\n",
    "            with open(file, 'a') as f:\n",
    "                f.write('{}|{}|{}|{}\\n'.format(lyrics, title_raw, artist, title))\n",
    "        \n",
    "        \n",
    "    return"
   ]
  },
  {
   "cell_type": "code",
   "execution_count": null,
   "id": "6d25adaa",
   "metadata": {},
   "outputs": [],
   "source": [
    "musixmatch_url = 'https://api.musixmatch.com/ws/1.1/'\n",
    "musixmatch_key = Keys.musixmatch_key\n",
    "genius_access_token = Keys.genius_access_token"
   ]
  },
  {
   "cell_type": "code",
   "execution_count": null,
   "id": "1ea03487",
   "metadata": {},
   "outputs": [],
   "source": [
    "# with open('../data/raw/genres_dict.pickle', 'rb') as f:\n",
    "#     musix_genres = pickle.load(f)\n",
    "    \n",
    "# genre_ids_to_keep = [2, 6, 11, 14, 15, 17, 18, 20, 22, 24, 1149, 1152]\n",
    "# genres_to_extract = [x for x in musix_genres if x['genre_id'] in genre_ids_to_keep]"
   ]
  },
  {
   "cell_type": "code",
   "execution_count": null,
   "id": "d0f1b74c",
   "metadata": {},
   "outputs": [],
   "source": [
    "# file = '../data/raw/music_data.tsv'\n",
    "# get_musix_track_info_by_genre(genres_to_extract, musixmatch_key, file, id_limit = 10_000)"
   ]
  },
  {
   "cell_type": "code",
   "execution_count": null,
   "id": "b706690c",
   "metadata": {},
   "outputs": [],
   "source": [
    "columns = ['title_id', 'title_name', 'genre_id', 'genre_name', 'album_id', 'album_name', 'artist_id', 'artist_name']\n",
    "genres = pd.read_csv('../data/raw/music_data.tsv', sep = '\\t', header = None)\n",
    "genres.columns = columns\n",
    "cleaned_genres = clean_titles(genres)"
   ]
  },
  {
   "cell_type": "code",
   "execution_count": null,
   "id": "ba3fe3e8",
   "metadata": {},
   "outputs": [],
   "source": [
    "# rock_death_black = get_genre_subframe(genres, 'Rock-Death-Metal-Black-Metal')\n",
    "# rock_hard_rock = get_genre_subframe(genres, 'Rock-Hard-Rock')\n",
    "# blues = get_genre_subframe(genres, 'Blues')\n",
    "# jazz = get_genre_subframe(genres, 'Jazz')\n",
    "# country = get_genre_subframe(genres, 'Country')\n",
    "# reggae = get_genre_subframe(genres, 'Reggae')\n",
    "# christian_gospel = get_genre_subframe(genres, 'Christian-Gospel')\n",
    "# rb_soul = get_genre_subframe(genres, 'R-B-Soul')\n",
    "# dance = get_genre_subframe(genres, 'Dance')\n",
    "# pop = get_genre_subframe(genres, 'Pop')\n",
    "# hip_hop_rap = get_genre_subframe(genres, 'Hip-Hop-Rap')\n",
    "# alternative = get_genre_subframe(genres, 'Alternative')"
   ]
  },
  {
   "cell_type": "code",
   "execution_count": null,
   "id": "f5c31568",
   "metadata": {},
   "outputs": [],
   "source": [
    "lyrics_files = ['../data/raw/alternative_song_lyrics.tsv',\n",
    "                '../data/raw/black_death_metal_song_lyrics.tsv',\n",
    "                '../data/raw/blues_song_lyrics.tsv',\n",
    "                '../data/raw/christian_gospel_song_lyrics.tsv',\n",
    "                '../data/raw/country_song_lyrics.tsv',\n",
    "                '../data/raw/dance_song_lyrics.tsv',\n",
    "                '../data/raw/hip_hop_rap_song_lyrics.tsv',\n",
    "                '../data/raw/jazz_song_lyrics.tsv',\n",
    "                '../data/raw/pop_song_lyrics.tsv',\n",
    "                '../data/raw/rb_soul_song_lyrics.tsv',\n",
    "                '../data/raw/reggae_song_lyrics.tsv',\n",
    "                '../data/raw/rock_hard_rock_song_lyrics.tsv']\n",
    "missed_songs = extract_songs_no_lyrics(lyrics_files, genres)\n",
    "missed_songs_titles_cleaned = clean_titles(missed_songs)"
   ]
  },
  {
   "cell_type": "code",
   "execution_count": null,
   "id": "af6b427b",
   "metadata": {},
   "outputs": [],
   "source": [
    "# file = '../data/raw/rock_death_black_song_lyrics.tsv'\n",
    "# scrape_song_lyrics(rock_death_black, genius_access_token, file)"
   ]
  },
  {
   "cell_type": "code",
   "execution_count": null,
   "id": "f5e16681",
   "metadata": {},
   "outputs": [],
   "source": [
    "# file = '../data/raw/rock_hard_rock_song_lyrics.tsv'\n",
    "# scrape_song_lyrics(rock_hard_rock, genius_access_token, file)"
   ]
  },
  {
   "cell_type": "code",
   "execution_count": null,
   "id": "f269002a",
   "metadata": {},
   "outputs": [],
   "source": [
    "# file = '../data/raw/blues_song_lyrics.tsv'\n",
    "# scrape_song_lyrics(blues, genius_access_token, file)"
   ]
  },
  {
   "cell_type": "code",
   "execution_count": null,
   "id": "2c07f947",
   "metadata": {},
   "outputs": [],
   "source": [
    "# file = '../data/raw/jazz_song_lyrics.tsv'\n",
    "# scrape_song_lyrics(jazz, genius_access_token, file)"
   ]
  },
  {
   "cell_type": "code",
   "execution_count": null,
   "id": "f7736e38",
   "metadata": {},
   "outputs": [],
   "source": [
    "# file = '../data/raw/reggae_song_lyrics.tsv'\n",
    "# scrape_song_lyrics(reggae, genius_access_token, file)"
   ]
  },
  {
   "cell_type": "code",
   "execution_count": null,
   "id": "d78b47d0",
   "metadata": {},
   "outputs": [],
   "source": [
    "# file = '../data/raw/christian_gospel_song_lyrics.tsv'\n",
    "# scrape_song_lyrics(christian_gospel, genius_access_token, file)"
   ]
  },
  {
   "cell_type": "code",
   "execution_count": null,
   "id": "8fbdd3f4",
   "metadata": {},
   "outputs": [],
   "source": [
    "# file = '../data/raw/dance_song_lyrics.tsv'\n",
    "# scrape_song_lyrics(dance, genius_access_token, file)"
   ]
  },
  {
   "cell_type": "code",
   "execution_count": null,
   "id": "9c75722b",
   "metadata": {},
   "outputs": [],
   "source": [
    "# file = '../data/raw/pop_song_lyrics.tsv'\n",
    "# scrape_song_lyrics(pop, genius_access_token, file)"
   ]
  },
  {
   "cell_type": "code",
   "execution_count": null,
   "id": "f5049566",
   "metadata": {},
   "outputs": [],
   "source": [
    "# file = '../data/raw/hip_hop_rap_song_lyrics.tsv'\n",
    "# scrape_song_lyrics(hip_hop_rap, genius_access_token, file)"
   ]
  },
  {
   "cell_type": "code",
   "execution_count": null,
   "id": "31d8ff3d",
   "metadata": {},
   "outputs": [],
   "source": [
    "# file = '../data/raw/alternative_song_lyrics.tsv'\n",
    "# scrape_song_lyrics(alternative, genius_access_token, file)"
   ]
  },
  {
   "cell_type": "code",
   "execution_count": null,
   "id": "a477927a",
   "metadata": {
    "scrolled": true
   },
   "outputs": [],
   "source": [
    "# file = '../data/raw/missed_songs_titles_cleaned_song_lyrics.tsv'\n",
    "# scrape_song_lyrics(missed_songs_titles_cleaned, genius_access_token, file, title_key = 'clean_title')"
   ]
  },
  {
   "cell_type": "code",
   "execution_count": null,
   "id": "7610f18d",
   "metadata": {},
   "outputs": [],
   "source": []
  },
  {
   "cell_type": "code",
   "execution_count": null,
   "id": "bf4b2343",
   "metadata": {},
   "outputs": [],
   "source": []
  },
  {
   "cell_type": "code",
   "execution_count": null,
   "id": "d0cc4fc3",
   "metadata": {},
   "outputs": [],
   "source": []
  },
  {
   "cell_type": "code",
   "execution_count": null,
   "id": "905cc216",
   "metadata": {},
   "outputs": [],
   "source": [
    "# file = '../data/raw/songlyrics_lyrics-01.csv'\n",
    "# scrape_songlyrics(cleaned_genres.iloc[:59765].reset_index().drop('index', axis = 1), file)"
   ]
  },
  {
   "cell_type": "code",
   "execution_count": null,
   "id": "a8b6075f",
   "metadata": {},
   "outputs": [],
   "source": [
    "# file = '../data/raw/songlyrics_lyrics-02.csv'\n",
    "# scrape_songlyrics(cleaned_genres.iloc[59765:].reset_index().drop('index', axis = 1), file)"
   ]
  },
  {
   "cell_type": "code",
   "execution_count": null,
   "id": "35d0f34c",
   "metadata": {},
   "outputs": [],
   "source": []
  }
 ],
 "metadata": {
  "kernelspec": {
   "display_name": "Python 3 (ipykernel)",
   "language": "python",
   "name": "python3"
  },
  "language_info": {
   "codemirror_mode": {
    "name": "ipython",
    "version": 3
   },
   "file_extension": ".py",
   "mimetype": "text/x-python",
   "name": "python",
   "nbconvert_exporter": "python",
   "pygments_lexer": "ipython3",
   "version": "3.8.10"
  }
 },
 "nbformat": 4,
 "nbformat_minor": 5
}
