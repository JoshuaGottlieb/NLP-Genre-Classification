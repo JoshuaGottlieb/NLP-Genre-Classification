{
 "cells": [
  {
   "cell_type": "code",
   "execution_count": null,
   "id": "47f6112f",
   "metadata": {},
   "outputs": [],
   "source": [
    "import requests\n",
    "import pandas as pd\n",
    "import json\n",
    "import Keys\n",
    "import time\n",
    "import pickle\n",
    "from rauth import OAuth1Service"
   ]
  },
  {
   "cell_type": "code",
   "execution_count": null,
   "id": "68113dab",
   "metadata": {},
   "outputs": [],
   "source": [
    "def get_musix_genres(key):\n",
    "    url = 'https://api.musixmatch.com/ws/1.1/'\n",
    "    sub_url = 'music.genres.get'\n",
    "    params = {\n",
    "        'apikey': key\n",
    "    }\n",
    "    \n",
    "    musix_genres_json = requests.get(url + sub_url, params = params).json()['message']['body']['music_genre_list']\n",
    "    \n",
    "    musix_genres = []\n",
    "    \n",
    "    for dictionary in musix_genres_json:\n",
    "        genre = dictionary['music_genre']\n",
    "        musix_genres.append({'genre_id': genre['music_genre_id'],\n",
    "                             'genre_name': genre['music_genre_vanity']})\n",
    "    \n",
    "    return musix_genres"
   ]
  },
  {
   "cell_type": "code",
   "execution_count": null,
   "id": "526e0ad2",
   "metadata": {},
   "outputs": [],
   "source": [
    "def get_musix_track_info_by_genre(genres, key, id_limit = 5000):\n",
    "    url = 'https://api.musixmatch.com/ws/1.1/'\n",
    "    sub_url = 'track.search'\n",
    "    \n",
    "    for genre in genres:\n",
    "        params = {\n",
    "            'apikey': key,\n",
    "            'q_track': '*',\n",
    "            'f_music_genre_id': genre['genre_id'],\n",
    "            'f_has_lyrics': 1,\n",
    "            'f_lyrics_language': 'en',\n",
    "            'page_size': 100\n",
    "        }\n",
    "        \n",
    "        num_tracks = requests.get(url + sub_url, params = params).json()['message']['header']['available']\n",
    "        page_limit = min(num_tracks, id_limit)\n",
    "        page_max = (page_limit // 100) + 1\n",
    "        pages = range(2, page_max)\n",
    "        \n",
    "        print('{}: Retrieving {} ids in {} pages'.format(genre['genre_name'], page_limit, page_max - 1))\n",
    "        print('Retrieving page 1 of {}'.format(page_max - 1))\n",
    "        \n",
    "        tracks = requests.get(url + sub_url, params = params).json()['message']['body']['track_list']\n",
    "        \n",
    "        with open('../data/raw/musix_match_track_data.csv', 'a') as f:\n",
    "            track_info = [','.join([str(track['track']['track_id']),\n",
    "                                    track['track']['track_name'],\n",
    "                                    str(genre['genre_id']),\n",
    "                                    genre['genre_name']]) + '\\n' for track in tracks]\n",
    "                         \n",
    "            f.writelines(track_info)\n",
    "\n",
    "        for page in pages:\n",
    "            time.sleep(1)\n",
    "            params['page'] = page\n",
    "            print('Retrieving page {} of {}'.format(page, page_max - 1))\n",
    "            tracks = requests.get(url + sub_url, params = params).json()['message']['body']['track_list']\n",
    "            \n",
    "            with open('../data/raw/musix_match_track_data.csv', 'a') as f:\n",
    "                track_info = [','.join([str(track['track']['track_id']),\n",
    "                                        track['track']['track_name'],\n",
    "                                        str(genre['genre_id']),\n",
    "                                        genre['genre_name']]) + '\\n' for track in tracks]\n",
    "\n",
    "                f.writelines(track_info)\n",
    "    \n",
    "        print('Retrieved {} ids for genre {}'.format(page_limit, genre['genre_name']))\n",
    "    \n",
    "    return"
   ]
  },
  {
   "cell_type": "code",
   "execution_count": null,
   "id": "091b6c3d",
   "metadata": {},
   "outputs": [],
   "source": [
    "musixmatch_url = 'https://api.musixmatch.com/ws/1.1/'\n",
    "musixmatch_key = Keys.musixmatch_key"
   ]
  },
  {
   "cell_type": "code",
   "execution_count": null,
   "id": "8e0d0fa7",
   "metadata": {},
   "outputs": [],
   "source": [
    "# musix_genres = get_musix_genres(musixmatch_key)\n",
    "\n",
    "# with open('../data/raw/genres_dict.pickle', 'wb') as f:\n",
    "#     pickle.dump(musix_genres, f)"
   ]
  },
  {
   "cell_type": "code",
   "execution_count": null,
   "id": "2e69d853",
   "metadata": {},
   "outputs": [],
   "source": [
    "with open('../data/raw/genres_dict.pickle', 'rb') as f:\n",
    "    musix_genres = pickle.load(f)"
   ]
  },
  {
   "cell_type": "code",
   "execution_count": null,
   "id": "50670785",
   "metadata": {},
   "outputs": [],
   "source": [
    "sorted(musix_genres, key = lambda x: x['genre_id'])"
   ]
  },
  {
   "cell_type": "code",
   "execution_count": null,
   "id": "fa83c46b",
   "metadata": {},
   "outputs": [],
   "source": [
    "top_level_genres = sorted([x for x in musix_genres if x['genre_id'] < 54], key = lambda x: x['genre_id'])\n",
    "genre_ids_to_drop = [0, 3, 4, 9, 10, 16, 25, 27, 28, 29, 30, 34, 50, 51, 52, 53]\n",
    "genres_to_extract = [x for x in top_level_genres if x['genre_id'] not in genre_ids_to_drop]"
   ]
  },
  {
   "cell_type": "code",
   "execution_count": null,
   "id": "5e479b62",
   "metadata": {},
   "outputs": [],
   "source": [
    "genres_to_extract"
   ]
  },
  {
   "cell_type": "code",
   "execution_count": null,
   "id": "8b7226cc",
   "metadata": {},
   "outputs": [],
   "source": [
    "# get_musix_track_info_by_genre(genres_to_extract, musixmatch_key, id_limit = 10_000)"
   ]
  }
 ],
 "metadata": {
  "kernelspec": {
   "display_name": "Python (learn-env)",
   "language": "python",
   "name": "learn-env"
  },
  "language_info": {
   "codemirror_mode": {
    "name": "ipython",
    "version": 3
   },
   "file_extension": ".py",
   "mimetype": "text/x-python",
   "name": "python",
   "nbconvert_exporter": "python",
   "pygments_lexer": "ipython3",
   "version": "3.8.5"
  }
 },
 "nbformat": 4,
 "nbformat_minor": 5
}
